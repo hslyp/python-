{
 "cells": [
  {
   "cell_type": "code",
   "execution_count": 1,
   "id": "1b52c84e",
   "metadata": {},
   "outputs": [
    {
     "data": {
      "text/plain": [
       "{'name': 'Alice', 'age': '25', 'city': 'New York'}"
      ]
     },
     "execution_count": 1,
     "metadata": {},
     "output_type": "execute_result"
    }
   ],
   "source": [
    "dict = {'name': 'Alice','age' : '25','city':'New York'}\n",
    "dict"
   ]
  },
  {
   "cell_type": "code",
   "execution_count": 2,
   "id": "b5330798",
   "metadata": {},
   "outputs": [
    {
     "data": {
      "text/plain": [
       "'Alice'"
      ]
     },
     "execution_count": 2,
     "metadata": {},
     "output_type": "execute_result"
    }
   ],
   "source": [
    "dict['name']"
   ]
  },
  {
   "cell_type": "code",
   "execution_count": 14,
   "id": "e2d66f9b",
   "metadata": {},
   "outputs": [
    {
     "data": {
      "application/vnd.microsoft.datawrangler.viewer.v0+json": {
       "columns": [
        {
         "name": "index",
         "rawType": "int64",
         "type": "integer"
        },
        {
         "name": "Id",
         "rawType": "int64",
         "type": "integer"
        },
        {
         "name": "Home Ownership",
         "rawType": "object",
         "type": "string"
        },
        {
         "name": "Annual Income",
         "rawType": "float64",
         "type": "float"
        },
        {
         "name": "Years in current job",
         "rawType": "object",
         "type": "unknown"
        },
        {
         "name": "Tax Liens",
         "rawType": "float64",
         "type": "float"
        },
        {
         "name": "Number of Open Accounts",
         "rawType": "float64",
         "type": "float"
        },
        {
         "name": "Years of Credit History",
         "rawType": "float64",
         "type": "float"
        },
        {
         "name": "Maximum Open Credit",
         "rawType": "float64",
         "type": "float"
        },
        {
         "name": "Number of Credit Problems",
         "rawType": "float64",
         "type": "float"
        },
        {
         "name": "Months since last delinquent",
         "rawType": "float64",
         "type": "float"
        },
        {
         "name": "Bankruptcies",
         "rawType": "float64",
         "type": "float"
        },
        {
         "name": "Purpose",
         "rawType": "object",
         "type": "string"
        },
        {
         "name": "Term",
         "rawType": "object",
         "type": "string"
        },
        {
         "name": "Current Loan Amount",
         "rawType": "float64",
         "type": "float"
        },
        {
         "name": "Current Credit Balance",
         "rawType": "float64",
         "type": "float"
        },
        {
         "name": "Monthly Debt",
         "rawType": "float64",
         "type": "float"
        },
        {
         "name": "Credit Score",
         "rawType": "float64",
         "type": "float"
        },
        {
         "name": "Credit Default",
         "rawType": "int64",
         "type": "integer"
        }
       ],
       "conversionMethod": "pd.DataFrame",
       "ref": "3e55f988-35b1-40f4-a21d-83beebc04ef7",
       "rows": [
        [
         "0",
         "0",
         "Own Home",
         "482087.0",
         null,
         "0.0",
         "11.0",
         "26.3",
         "685960.0",
         "1.0",
         null,
         "1.0",
         "debt consolidation",
         "Short Term",
         "99999999.0",
         "47386.0",
         "7914.0",
         "749.0",
         "0"
        ],
        [
         "1",
         "1",
         "Own Home",
         "1025487.0",
         "10+ years",
         "0.0",
         "15.0",
         "15.3",
         "1181730.0",
         "0.0",
         null,
         "0.0",
         "debt consolidation",
         "Long Term",
         "264968.0",
         "394972.0",
         "18373.0",
         "737.0",
         "1"
        ],
        [
         "2",
         "2",
         "Home Mortgage",
         "751412.0",
         "8 years",
         "0.0",
         "11.0",
         "35.0",
         "1182434.0",
         "0.0",
         null,
         "0.0",
         "debt consolidation",
         "Short Term",
         "99999999.0",
         "308389.0",
         "13651.0",
         "742.0",
         "0"
        ],
        [
         "3",
         "3",
         "Own Home",
         "805068.0",
         "6 years",
         "0.0",
         "8.0",
         "22.5",
         "147400.0",
         "1.0",
         null,
         "1.0",
         "debt consolidation",
         "Short Term",
         "121396.0",
         "95855.0",
         "11338.0",
         "694.0",
         "0"
        ],
        [
         "4",
         "4",
         "Rent",
         "776264.0",
         "8 years",
         "0.0",
         "13.0",
         "13.6",
         "385836.0",
         "1.0",
         null,
         "0.0",
         "debt consolidation",
         "Short Term",
         "125840.0",
         "93309.0",
         "7180.0",
         "719.0",
         "0"
        ]
       ],
       "shape": {
        "columns": 18,
        "rows": 5
       }
      },
      "text/html": [
       "<div>\n",
       "<style scoped>\n",
       "    .dataframe tbody tr th:only-of-type {\n",
       "        vertical-align: middle;\n",
       "    }\n",
       "\n",
       "    .dataframe tbody tr th {\n",
       "        vertical-align: top;\n",
       "    }\n",
       "\n",
       "    .dataframe thead th {\n",
       "        text-align: right;\n",
       "    }\n",
       "</style>\n",
       "<table border=\"1\" class=\"dataframe\">\n",
       "  <thead>\n",
       "    <tr style=\"text-align: right;\">\n",
       "      <th></th>\n",
       "      <th>Id</th>\n",
       "      <th>Home Ownership</th>\n",
       "      <th>Annual Income</th>\n",
       "      <th>Years in current job</th>\n",
       "      <th>Tax Liens</th>\n",
       "      <th>Number of Open Accounts</th>\n",
       "      <th>Years of Credit History</th>\n",
       "      <th>Maximum Open Credit</th>\n",
       "      <th>Number of Credit Problems</th>\n",
       "      <th>Months since last delinquent</th>\n",
       "      <th>Bankruptcies</th>\n",
       "      <th>Purpose</th>\n",
       "      <th>Term</th>\n",
       "      <th>Current Loan Amount</th>\n",
       "      <th>Current Credit Balance</th>\n",
       "      <th>Monthly Debt</th>\n",
       "      <th>Credit Score</th>\n",
       "      <th>Credit Default</th>\n",
       "    </tr>\n",
       "  </thead>\n",
       "  <tbody>\n",
       "    <tr>\n",
       "      <th>0</th>\n",
       "      <td>0</td>\n",
       "      <td>Own Home</td>\n",
       "      <td>482087.0</td>\n",
       "      <td>NaN</td>\n",
       "      <td>0.0</td>\n",
       "      <td>11.0</td>\n",
       "      <td>26.3</td>\n",
       "      <td>685960.0</td>\n",
       "      <td>1.0</td>\n",
       "      <td>NaN</td>\n",
       "      <td>1.0</td>\n",
       "      <td>debt consolidation</td>\n",
       "      <td>Short Term</td>\n",
       "      <td>99999999.0</td>\n",
       "      <td>47386.0</td>\n",
       "      <td>7914.0</td>\n",
       "      <td>749.0</td>\n",
       "      <td>0</td>\n",
       "    </tr>\n",
       "    <tr>\n",
       "      <th>1</th>\n",
       "      <td>1</td>\n",
       "      <td>Own Home</td>\n",
       "      <td>1025487.0</td>\n",
       "      <td>10+ years</td>\n",
       "      <td>0.0</td>\n",
       "      <td>15.0</td>\n",
       "      <td>15.3</td>\n",
       "      <td>1181730.0</td>\n",
       "      <td>0.0</td>\n",
       "      <td>NaN</td>\n",
       "      <td>0.0</td>\n",
       "      <td>debt consolidation</td>\n",
       "      <td>Long Term</td>\n",
       "      <td>264968.0</td>\n",
       "      <td>394972.0</td>\n",
       "      <td>18373.0</td>\n",
       "      <td>737.0</td>\n",
       "      <td>1</td>\n",
       "    </tr>\n",
       "    <tr>\n",
       "      <th>2</th>\n",
       "      <td>2</td>\n",
       "      <td>Home Mortgage</td>\n",
       "      <td>751412.0</td>\n",
       "      <td>8 years</td>\n",
       "      <td>0.0</td>\n",
       "      <td>11.0</td>\n",
       "      <td>35.0</td>\n",
       "      <td>1182434.0</td>\n",
       "      <td>0.0</td>\n",
       "      <td>NaN</td>\n",
       "      <td>0.0</td>\n",
       "      <td>debt consolidation</td>\n",
       "      <td>Short Term</td>\n",
       "      <td>99999999.0</td>\n",
       "      <td>308389.0</td>\n",
       "      <td>13651.0</td>\n",
       "      <td>742.0</td>\n",
       "      <td>0</td>\n",
       "    </tr>\n",
       "    <tr>\n",
       "      <th>3</th>\n",
       "      <td>3</td>\n",
       "      <td>Own Home</td>\n",
       "      <td>805068.0</td>\n",
       "      <td>6 years</td>\n",
       "      <td>0.0</td>\n",
       "      <td>8.0</td>\n",
       "      <td>22.5</td>\n",
       "      <td>147400.0</td>\n",
       "      <td>1.0</td>\n",
       "      <td>NaN</td>\n",
       "      <td>1.0</td>\n",
       "      <td>debt consolidation</td>\n",
       "      <td>Short Term</td>\n",
       "      <td>121396.0</td>\n",
       "      <td>95855.0</td>\n",
       "      <td>11338.0</td>\n",
       "      <td>694.0</td>\n",
       "      <td>0</td>\n",
       "    </tr>\n",
       "    <tr>\n",
       "      <th>4</th>\n",
       "      <td>4</td>\n",
       "      <td>Rent</td>\n",
       "      <td>776264.0</td>\n",
       "      <td>8 years</td>\n",
       "      <td>0.0</td>\n",
       "      <td>13.0</td>\n",
       "      <td>13.6</td>\n",
       "      <td>385836.0</td>\n",
       "      <td>1.0</td>\n",
       "      <td>NaN</td>\n",
       "      <td>0.0</td>\n",
       "      <td>debt consolidation</td>\n",
       "      <td>Short Term</td>\n",
       "      <td>125840.0</td>\n",
       "      <td>93309.0</td>\n",
       "      <td>7180.0</td>\n",
       "      <td>719.0</td>\n",
       "      <td>0</td>\n",
       "    </tr>\n",
       "  </tbody>\n",
       "</table>\n",
       "</div>"
      ],
      "text/plain": [
       "   Id Home Ownership  Annual Income Years in current job  Tax Liens  \\\n",
       "0   0       Own Home       482087.0                  NaN        0.0   \n",
       "1   1       Own Home      1025487.0            10+ years        0.0   \n",
       "2   2  Home Mortgage       751412.0              8 years        0.0   \n",
       "3   3       Own Home       805068.0              6 years        0.0   \n",
       "4   4           Rent       776264.0              8 years        0.0   \n",
       "\n",
       "   Number of Open Accounts  Years of Credit History  Maximum Open Credit  \\\n",
       "0                     11.0                     26.3             685960.0   \n",
       "1                     15.0                     15.3            1181730.0   \n",
       "2                     11.0                     35.0            1182434.0   \n",
       "3                      8.0                     22.5             147400.0   \n",
       "4                     13.0                     13.6             385836.0   \n",
       "\n",
       "   Number of Credit Problems  Months since last delinquent  Bankruptcies  \\\n",
       "0                        1.0                           NaN           1.0   \n",
       "1                        0.0                           NaN           0.0   \n",
       "2                        0.0                           NaN           0.0   \n",
       "3                        1.0                           NaN           1.0   \n",
       "4                        1.0                           NaN           0.0   \n",
       "\n",
       "              Purpose        Term  Current Loan Amount  \\\n",
       "0  debt consolidation  Short Term           99999999.0   \n",
       "1  debt consolidation   Long Term             264968.0   \n",
       "2  debt consolidation  Short Term           99999999.0   \n",
       "3  debt consolidation  Short Term             121396.0   \n",
       "4  debt consolidation  Short Term             125840.0   \n",
       "\n",
       "   Current Credit Balance  Monthly Debt  Credit Score  Credit Default  \n",
       "0                 47386.0        7914.0         749.0               0  \n",
       "1                394972.0       18373.0         737.0               1  \n",
       "2                308389.0       13651.0         742.0               0  \n",
       "3                 95855.0       11338.0         694.0               0  \n",
       "4                 93309.0        7180.0         719.0               0  "
      ]
     },
     "execution_count": 14,
     "metadata": {},
     "output_type": "execute_result"
    }
   ],
   "source": [
    "import numpy as np\n",
    "import pandas as pd\n",
    "data = pd.read_csv('data.csv')\n",
    "data.head()"
   ]
  },
  {
   "cell_type": "code",
   "execution_count": 15,
   "id": "ed801eef",
   "metadata": {},
   "outputs": [
    {
     "data": {
      "text/plain": [
       "Home Ownership\n",
       "Home Mortgage    3637\n",
       "Rent             3204\n",
       "Own Home          647\n",
       "Have Mortgage      12\n",
       "Name: count, dtype: int64"
      ]
     },
     "execution_count": 15,
     "metadata": {},
     "output_type": "execute_result"
    }
   ],
   "source": [
    "data[\"Home Ownership\"].value_counts()"
   ]
  },
  {
   "cell_type": "code",
   "execution_count": 16,
   "id": "61dee52e",
   "metadata": {},
   "outputs": [
    {
     "data": {
      "text/plain": [
       "0         Own Home\n",
       "1         Own Home\n",
       "2    Home Mortgage\n",
       "3         Own Home\n",
       "4             Rent\n",
       "Name: Home Ownership, dtype: object"
      ]
     },
     "execution_count": 16,
     "metadata": {},
     "output_type": "execute_result"
    }
   ],
   "source": [
    "mapping = {\n",
    "    \"Rent\":0,\n",
    "    \"Own Home\":1,\n",
    "    \"Have Mortgage\":2,\n",
    "    \"Home Mortgage\":3,\n",
    "\n",
    "}\n",
    "data[\"Home Ownership\"].head()"
   ]
  },
  {
   "cell_type": "code",
   "execution_count": 17,
   "id": "71b78c63",
   "metadata": {},
   "outputs": [
    {
     "data": {
      "text/plain": [
       "0    1\n",
       "1    1\n",
       "2    3\n",
       "3    1\n",
       "4    0\n",
       "Name: Home Ownership, dtype: int64"
      ]
     },
     "execution_count": 17,
     "metadata": {},
     "output_type": "execute_result"
    }
   ],
   "source": [
    "data[\"Home Ownership\"] = data[\"Home Ownership\"].map(mapping)\n",
    "data[\"Home Ownership\"].head()"
   ]
  },
  {
   "cell_type": "code",
   "execution_count": 18,
   "id": "058e3a32",
   "metadata": {},
   "outputs": [
    {
     "data": {
      "text/plain": [
       "Term\n",
       "Short Term    5556\n",
       "Long Term     1944\n",
       "Name: count, dtype: int64"
      ]
     },
     "execution_count": 18,
     "metadata": {},
     "output_type": "execute_result"
    }
   ],
   "source": [
    "data[\"Term\"].value_counts()"
   ]
  },
  {
   "cell_type": "code",
   "execution_count": 19,
   "id": "86272f44",
   "metadata": {},
   "outputs": [
    {
     "data": {
      "text/plain": [
       "0    1\n",
       "1    0\n",
       "2    1\n",
       "3    1\n",
       "4    1\n",
       "Name: Term, dtype: int64"
      ]
     },
     "execution_count": 19,
     "metadata": {},
     "output_type": "execute_result"
    }
   ],
   "source": [
    "mapping = {\n",
    "\"Short Term\":1,\n",
    "\"Long Term\":0\n",
    "\n",
    "}\n",
    "data[\"Term\"] = data[\"Term\"].map(mapping)\n",
    "data[\"Term\"].head()"
   ]
  },
  {
   "cell_type": "code",
   "execution_count": 20,
   "id": "77c22a6f",
   "metadata": {},
   "outputs": [],
   "source": [
    "import pandas as pd\n",
    "data = pd.read_csv(\"data.csv\")\n",
    "\n",
    "mapping = {\n",
    "    \"Term\":{\n",
    "        \"Short Term\":1,\n",
    "        \"Long Term\":0\n",
    "\n",
    "    },\n",
    "    \"Home Ownership\":{\n",
    "        \"Rent\": 0,\n",
    "        \"Own Home\":1,\n",
    "        \"Have Mortgage\":2,\n",
    "        \"Home Mprtgage\":3\n",
    "\n",
    "    }\n",
    "}"
   ]
  },
  {
   "cell_type": "code",
   "execution_count": 21,
   "id": "1bdca662",
   "metadata": {},
   "outputs": [
    {
     "data": {
      "text/plain": [
       "{'Short Term': 1, 'Long Term': 0}"
      ]
     },
     "execution_count": 21,
     "metadata": {},
     "output_type": "execute_result"
    }
   ],
   "source": [
    "mapping[\"Term\"]"
   ]
  },
  {
   "cell_type": "code",
   "execution_count": 22,
   "id": "8ef8d74f",
   "metadata": {},
   "outputs": [
    {
     "data": {
      "application/vnd.microsoft.datawrangler.viewer.v0+json": {
       "columns": [
        {
         "name": "index",
         "rawType": "int64",
         "type": "integer"
        },
        {
         "name": "Id",
         "rawType": "int64",
         "type": "integer"
        },
        {
         "name": "Home Ownership",
         "rawType": "float64",
         "type": "float"
        },
        {
         "name": "Annual Income",
         "rawType": "float64",
         "type": "float"
        },
        {
         "name": "Years in current job",
         "rawType": "object",
         "type": "unknown"
        },
        {
         "name": "Tax Liens",
         "rawType": "float64",
         "type": "float"
        },
        {
         "name": "Number of Open Accounts",
         "rawType": "float64",
         "type": "float"
        },
        {
         "name": "Years of Credit History",
         "rawType": "float64",
         "type": "float"
        },
        {
         "name": "Maximum Open Credit",
         "rawType": "float64",
         "type": "float"
        },
        {
         "name": "Number of Credit Problems",
         "rawType": "float64",
         "type": "float"
        },
        {
         "name": "Months since last delinquent",
         "rawType": "float64",
         "type": "float"
        },
        {
         "name": "Bankruptcies",
         "rawType": "float64",
         "type": "float"
        },
        {
         "name": "Purpose",
         "rawType": "object",
         "type": "string"
        },
        {
         "name": "Term",
         "rawType": "int64",
         "type": "integer"
        },
        {
         "name": "Current Loan Amount",
         "rawType": "float64",
         "type": "float"
        },
        {
         "name": "Current Credit Balance",
         "rawType": "float64",
         "type": "float"
        },
        {
         "name": "Monthly Debt",
         "rawType": "float64",
         "type": "float"
        },
        {
         "name": "Credit Score",
         "rawType": "float64",
         "type": "float"
        },
        {
         "name": "Credit Default",
         "rawType": "int64",
         "type": "integer"
        }
       ],
       "conversionMethod": "pd.DataFrame",
       "ref": "2da512f1-bf7d-4e26-981f-940ebd6c4c4c",
       "rows": [
        [
         "0",
         "0",
         "1.0",
         "482087.0",
         null,
         "0.0",
         "11.0",
         "26.3",
         "685960.0",
         "1.0",
         null,
         "1.0",
         "debt consolidation",
         "1",
         "99999999.0",
         "47386.0",
         "7914.0",
         "749.0",
         "0"
        ],
        [
         "1",
         "1",
         "1.0",
         "1025487.0",
         "10+ years",
         "0.0",
         "15.0",
         "15.3",
         "1181730.0",
         "0.0",
         null,
         "0.0",
         "debt consolidation",
         "0",
         "264968.0",
         "394972.0",
         "18373.0",
         "737.0",
         "1"
        ],
        [
         "2",
         "2",
         null,
         "751412.0",
         "8 years",
         "0.0",
         "11.0",
         "35.0",
         "1182434.0",
         "0.0",
         null,
         "0.0",
         "debt consolidation",
         "1",
         "99999999.0",
         "308389.0",
         "13651.0",
         "742.0",
         "0"
        ],
        [
         "3",
         "3",
         "1.0",
         "805068.0",
         "6 years",
         "0.0",
         "8.0",
         "22.5",
         "147400.0",
         "1.0",
         null,
         "1.0",
         "debt consolidation",
         "1",
         "121396.0",
         "95855.0",
         "11338.0",
         "694.0",
         "0"
        ],
        [
         "4",
         "4",
         "0.0",
         "776264.0",
         "8 years",
         "0.0",
         "13.0",
         "13.6",
         "385836.0",
         "1.0",
         null,
         "0.0",
         "debt consolidation",
         "1",
         "125840.0",
         "93309.0",
         "7180.0",
         "719.0",
         "0"
        ]
       ],
       "shape": {
        "columns": 18,
        "rows": 5
       }
      },
      "text/html": [
       "<div>\n",
       "<style scoped>\n",
       "    .dataframe tbody tr th:only-of-type {\n",
       "        vertical-align: middle;\n",
       "    }\n",
       "\n",
       "    .dataframe tbody tr th {\n",
       "        vertical-align: top;\n",
       "    }\n",
       "\n",
       "    .dataframe thead th {\n",
       "        text-align: right;\n",
       "    }\n",
       "</style>\n",
       "<table border=\"1\" class=\"dataframe\">\n",
       "  <thead>\n",
       "    <tr style=\"text-align: right;\">\n",
       "      <th></th>\n",
       "      <th>Id</th>\n",
       "      <th>Home Ownership</th>\n",
       "      <th>Annual Income</th>\n",
       "      <th>Years in current job</th>\n",
       "      <th>Tax Liens</th>\n",
       "      <th>Number of Open Accounts</th>\n",
       "      <th>Years of Credit History</th>\n",
       "      <th>Maximum Open Credit</th>\n",
       "      <th>Number of Credit Problems</th>\n",
       "      <th>Months since last delinquent</th>\n",
       "      <th>Bankruptcies</th>\n",
       "      <th>Purpose</th>\n",
       "      <th>Term</th>\n",
       "      <th>Current Loan Amount</th>\n",
       "      <th>Current Credit Balance</th>\n",
       "      <th>Monthly Debt</th>\n",
       "      <th>Credit Score</th>\n",
       "      <th>Credit Default</th>\n",
       "    </tr>\n",
       "  </thead>\n",
       "  <tbody>\n",
       "    <tr>\n",
       "      <th>0</th>\n",
       "      <td>0</td>\n",
       "      <td>1.0</td>\n",
       "      <td>482087.0</td>\n",
       "      <td>NaN</td>\n",
       "      <td>0.0</td>\n",
       "      <td>11.0</td>\n",
       "      <td>26.3</td>\n",
       "      <td>685960.0</td>\n",
       "      <td>1.0</td>\n",
       "      <td>NaN</td>\n",
       "      <td>1.0</td>\n",
       "      <td>debt consolidation</td>\n",
       "      <td>1</td>\n",
       "      <td>99999999.0</td>\n",
       "      <td>47386.0</td>\n",
       "      <td>7914.0</td>\n",
       "      <td>749.0</td>\n",
       "      <td>0</td>\n",
       "    </tr>\n",
       "    <tr>\n",
       "      <th>1</th>\n",
       "      <td>1</td>\n",
       "      <td>1.0</td>\n",
       "      <td>1025487.0</td>\n",
       "      <td>10+ years</td>\n",
       "      <td>0.0</td>\n",
       "      <td>15.0</td>\n",
       "      <td>15.3</td>\n",
       "      <td>1181730.0</td>\n",
       "      <td>0.0</td>\n",
       "      <td>NaN</td>\n",
       "      <td>0.0</td>\n",
       "      <td>debt consolidation</td>\n",
       "      <td>0</td>\n",
       "      <td>264968.0</td>\n",
       "      <td>394972.0</td>\n",
       "      <td>18373.0</td>\n",
       "      <td>737.0</td>\n",
       "      <td>1</td>\n",
       "    </tr>\n",
       "    <tr>\n",
       "      <th>2</th>\n",
       "      <td>2</td>\n",
       "      <td>NaN</td>\n",
       "      <td>751412.0</td>\n",
       "      <td>8 years</td>\n",
       "      <td>0.0</td>\n",
       "      <td>11.0</td>\n",
       "      <td>35.0</td>\n",
       "      <td>1182434.0</td>\n",
       "      <td>0.0</td>\n",
       "      <td>NaN</td>\n",
       "      <td>0.0</td>\n",
       "      <td>debt consolidation</td>\n",
       "      <td>1</td>\n",
       "      <td>99999999.0</td>\n",
       "      <td>308389.0</td>\n",
       "      <td>13651.0</td>\n",
       "      <td>742.0</td>\n",
       "      <td>0</td>\n",
       "    </tr>\n",
       "    <tr>\n",
       "      <th>3</th>\n",
       "      <td>3</td>\n",
       "      <td>1.0</td>\n",
       "      <td>805068.0</td>\n",
       "      <td>6 years</td>\n",
       "      <td>0.0</td>\n",
       "      <td>8.0</td>\n",
       "      <td>22.5</td>\n",
       "      <td>147400.0</td>\n",
       "      <td>1.0</td>\n",
       "      <td>NaN</td>\n",
       "      <td>1.0</td>\n",
       "      <td>debt consolidation</td>\n",
       "      <td>1</td>\n",
       "      <td>121396.0</td>\n",
       "      <td>95855.0</td>\n",
       "      <td>11338.0</td>\n",
       "      <td>694.0</td>\n",
       "      <td>0</td>\n",
       "    </tr>\n",
       "    <tr>\n",
       "      <th>4</th>\n",
       "      <td>4</td>\n",
       "      <td>0.0</td>\n",
       "      <td>776264.0</td>\n",
       "      <td>8 years</td>\n",
       "      <td>0.0</td>\n",
       "      <td>13.0</td>\n",
       "      <td>13.6</td>\n",
       "      <td>385836.0</td>\n",
       "      <td>1.0</td>\n",
       "      <td>NaN</td>\n",
       "      <td>0.0</td>\n",
       "      <td>debt consolidation</td>\n",
       "      <td>1</td>\n",
       "      <td>125840.0</td>\n",
       "      <td>93309.0</td>\n",
       "      <td>7180.0</td>\n",
       "      <td>719.0</td>\n",
       "      <td>0</td>\n",
       "    </tr>\n",
       "  </tbody>\n",
       "</table>\n",
       "</div>"
      ],
      "text/plain": [
       "   Id  Home Ownership  Annual Income Years in current job  Tax Liens  \\\n",
       "0   0             1.0       482087.0                  NaN        0.0   \n",
       "1   1             1.0      1025487.0            10+ years        0.0   \n",
       "2   2             NaN       751412.0              8 years        0.0   \n",
       "3   3             1.0       805068.0              6 years        0.0   \n",
       "4   4             0.0       776264.0              8 years        0.0   \n",
       "\n",
       "   Number of Open Accounts  Years of Credit History  Maximum Open Credit  \\\n",
       "0                     11.0                     26.3             685960.0   \n",
       "1                     15.0                     15.3            1181730.0   \n",
       "2                     11.0                     35.0            1182434.0   \n",
       "3                      8.0                     22.5             147400.0   \n",
       "4                     13.0                     13.6             385836.0   \n",
       "\n",
       "   Number of Credit Problems  Months since last delinquent  Bankruptcies  \\\n",
       "0                        1.0                           NaN           1.0   \n",
       "1                        0.0                           NaN           0.0   \n",
       "2                        0.0                           NaN           0.0   \n",
       "3                        1.0                           NaN           1.0   \n",
       "4                        1.0                           NaN           0.0   \n",
       "\n",
       "              Purpose  Term  Current Loan Amount  Current Credit Balance  \\\n",
       "0  debt consolidation     1           99999999.0                 47386.0   \n",
       "1  debt consolidation     0             264968.0                394972.0   \n",
       "2  debt consolidation     1           99999999.0                308389.0   \n",
       "3  debt consolidation     1             121396.0                 95855.0   \n",
       "4  debt consolidation     1             125840.0                 93309.0   \n",
       "\n",
       "   Monthly Debt  Credit Score  Credit Default  \n",
       "0        7914.0         749.0               0  \n",
       "1       18373.0         737.0               1  \n",
       "2       13651.0         742.0               0  \n",
       "3       11338.0         694.0               0  \n",
       "4        7180.0         719.0               0  "
      ]
     },
     "execution_count": 22,
     "metadata": {},
     "output_type": "execute_result"
    }
   ],
   "source": [
    "data[\"Home Ownership\"] = data[\"Home Ownership\"].map(mapping[\"Home Ownership\"])\n",
    "data[\"Term\"] = data[\"Term\"].map(mapping[\"Term\"])\n",
    "data.head()"
   ]
  },
  {
   "cell_type": "code",
   "execution_count": 23,
   "id": "c31768c6",
   "metadata": {},
   "outputs": [
    {
     "data": {
      "text/plain": [
       "0     482087.0\n",
       "1    1025487.0\n",
       "2     751412.0\n",
       "3     805068.0\n",
       "4     776264.0\n",
       "Name: Annual Income, dtype: float64"
      ]
     },
     "execution_count": 23,
     "metadata": {},
     "output_type": "execute_result"
    }
   ],
   "source": [
    "def manual_normalize(data):\n",
    "    \"\"\"\n",
    "    此函数用于对输入的数据进行归一化处理\n",
    "    :param data: 输入的一位数据（“如pandas 的 Series”）\n",
    "    ：返回归一化后的数据\n",
    "    \"\"\"\n",
    "    min_val  = data.min()\n",
    "    max_val =  data.max()\n",
    "    normalized_data = (data - min_val) / (max_val - min_val)\n",
    "    return normalized_data\n",
    "data['Anuual Income '] = manual_normalize(data['Annual Income'])\n",
    "data['Annual Income'].head()"
   ]
  },
  {
   "cell_type": "code",
   "execution_count": 24,
   "id": "66be0d8f",
   "metadata": {},
   "outputs": [
    {
     "data": {
      "text/plain": [
       "0    0.031798\n",
       "1    0.086221\n",
       "2    0.058771\n",
       "3    0.064145\n",
       "4    0.061260\n",
       "Name: Annual Income, dtype: float64"
      ]
     },
     "execution_count": 24,
     "metadata": {},
     "output_type": "execute_result"
    }
   ],
   "source": [
    "from sklearn.preprocessing import StandardScaler,MinMaxScaler\n",
    "data = pd.read_csv(\"data.csv\")\n",
    "\n",
    "min_max_scaler = MinMaxScaler()\n",
    "data['Annual Income'] = min_max_scaler.fit_transform(data[['Annual Income']])\n",
    "\n",
    "data['Annual Income'].head()"
   ]
  },
  {
   "cell_type": "code",
   "execution_count": 25,
   "id": "19fe95ec",
   "metadata": {},
   "outputs": [
    {
     "data": {
      "text/plain": [
       "0   -1.046183\n",
       "1   -0.403310\n",
       "2   -0.727556\n",
       "3   -0.664078\n",
       "4   -0.698155\n",
       "Name: Annual Income, dtype: float64"
      ]
     },
     "execution_count": 25,
     "metadata": {},
     "output_type": "execute_result"
    }
   ],
   "source": [
    "data = pd.read_csv(\"data.csv\")\n",
    "scaler = StandardScaler()\n",
    "data['Annual Income'] = scaler.fit_transform(data[['Annual Income']])\n",
    "data['Annual Income'].head()"
   ]
  }
 ],
 "metadata": {
  "kernelspec": {
   "display_name": "vs",
   "language": "python",
   "name": "python3"
  },
  "language_info": {
   "codemirror_mode": {
    "name": "ipython",
    "version": 3
   },
   "file_extension": ".py",
   "mimetype": "text/x-python",
   "name": "python",
   "nbconvert_exporter": "python",
   "pygments_lexer": "ipython3",
   "version": "3.9.19"
  }
 },
 "nbformat": 4,
 "nbformat_minor": 5
}
