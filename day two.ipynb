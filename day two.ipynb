{
 "cells": [
  {
   "cell_type": "markdown",
   "id": "e0ff0841",
   "metadata": {},
   "source": [
    "#### 题目: \n",
    "定义两个字符串变量，str1 赋值为 “Hello”，str2 赋值为 “Python”。将这两个字符串拼接起来（中间加一个空格），并将结果存储在变量 greeting 中；计算 greeting 字符串的长度，存储在变量 length 中；获取 greeting 字符串的第一个字符，存储在变量 first_char 中。然后，使用 f-string 分三行打印出类似以下格式的信息：\n",
    "拼接结果: Hello Python\n",
    "```\n",
    "字符串长度: 12\n",
    "```\n",
    "第一个字符: H\n",
    "```\n",
    "第二个字符：e\n",
    "```\n",
    "最后一个字符是：n\n"
   ]
  },
  {
   "cell_type": "code",
   "execution_count": null,
   "id": "29d6e55b",
   "metadata": {},
   "outputs": [
    {
     "name": "stdout",
     "output_type": "stream",
     "text": [
      "拼接结果:Hello Python\n",
      "字符串长度:12\n",
      "第一个字符:H\n",
      "第二个字符:e\n",
      "最后一个字符:n\n"
     ]
    }
   ],
   "source": [
    "str1 = \"Hello\"\n",
    "str2 = \"Python\"\n",
    "greating = str1 + \" \" + str2\n",
    "length = len(greating)\n",
    "first_char = greating[0]\n",
    "second_char = greating[1]\n",
    "last_char = greating[-1]\n",
    "\n",
    "print(f'拼接结果:{greating}')\n",
    "print(f'字符串长度:{length}')\n",
    "print(f'第一个字符:{first_char}')\n",
    "print(f'第二个字符:{second_char}')\n",
    "print(f'最后一个字符:{last_char}')"
   ]
  },
  {
   "cell_type": "markdown",
   "id": "fbaab236",
   "metadata": {},
   "source": [
    "#### 题目: \n",
    "定义两个整数变量，score_a 赋值为 75，score_b 赋值为 90。比较 score_a 是否大于 score_b，将比较结果（布尔值）存储在变量 is_a_higher 中；比较 score_a 是否小于等于 score_b，将结果存储在变量 is_a_lower_or_equal 中；比较 score_a 是否不等于 score_b，将结果存储在变量 is_different 中。然后，使用 f-string 分三行打印出类似以下格式的信息：\n",
    "```\n",
    "75 是否大于 90: False\n",
    "```\n",
    "75 是否小于等于 90: True\n",
    "```\n",
    "75 是否不等于 90: True\n",
    "\n"
   ]
  },
  {
   "cell_type": "code",
   "execution_count": 5,
   "id": "04e64225",
   "metadata": {},
   "outputs": [
    {
     "name": "stdout",
     "output_type": "stream",
     "text": [
      "75 is higher than 90 : False\n",
      "75 is equal to 90 : False\n",
      "75 is lower than 90 : True\n"
     ]
    }
   ],
   "source": [
    "score_a = 75\n",
    "score_b = 90\n",
    "\n",
    "is_a_higher = score_a > score_b\n",
    "is_a_equal = score_a == score_b\n",
    "is_a_lower = score_a < score_b\n",
    "\n",
    "print(f\"{score_a} is higher than {score_b} : {is_a_higher}\")\n",
    "print(f\"{score_a} is equal to {score_b} : {is_a_equal}\")\n",
    "print(f\"{score_a} is lower than {score_b} : {is_a_lower}\")\n"
   ]
  }
 ],
 "metadata": {
  "kernelspec": {
   "display_name": "vs",
   "language": "python",
   "name": "python3"
  },
  "language_info": {
   "codemirror_mode": {
    "name": "ipython",
    "version": 3
   },
   "file_extension": ".py",
   "mimetype": "text/x-python",
   "name": "python",
   "nbconvert_exporter": "python",
   "pygments_lexer": "ipython3",
   "version": "3.9.19"
  }
 },
 "nbformat": 4,
 "nbformat_minor": 5
}
