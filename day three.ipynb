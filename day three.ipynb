{
 "cells": [
  {
   "cell_type": "markdown",
   "id": "08ecf16a",
   "metadata": {},
   "source": [
    "题目:\n",
    "\n",
    "1. 创建一个包含三个字符串元素的列表 `tech_list`，元素分别为 \"Python\", \"Java\", \"Go\"。\n",
    "2. 获取列表中的第一个元素，并将其存储在变量 `first_tech` 中。\n",
    "3. 向 `tech_list` 的末尾添加一个新的字符串元素 \"JavaScript\"。\n",
    "4. 修改 `tech_list` 中的第二个元素（索引为 1），将其从 \"Java\" 更改为 \"Ruby\"。\n",
    "5. 移除列表中的元素 \"Go\"。\n",
    "6. 计算当前 `tech_list` 的长度，并将结果存储在变量 `current_length` 中。\n",
    "7. 最后，使用 f-string 分三行打印出以下信息：\n",
    "   a. 获取到的第一个技术名称。\n",
    "   b. 列表当前的长度。\n",
    "   c. 经过所有操作后，列表最终的内容。\n",
    "\n",
    "打印格式应类似：\n",
    "```第一个技术是: Python\n",
    "当前列表长度: 3\n",
    "最终列表内容: ['Python', 'Ruby', 'JavaScript']\n",
    "```\n"
   ]
  },
  {
   "cell_type": "code",
   "execution_count": 15,
   "id": "ab408491",
   "metadata": {},
   "outputs": [
    {
     "name": "stdout",
     "output_type": "stream",
     "text": [
      "获取到的第一个技术名称：Python\n",
      "列表当前的长度：3\n",
      "最终列表的内容：['Python', 'Ruby', 'JavaScript']\n"
     ]
    }
   ],
   "source": [
    "tech_list = [\"Python\",\"Java\",\"Go\"]\n",
    "\n",
    "first_tech = tech_list[0]\n",
    "\n",
    "tech_list.append(\"JavaScript\")\n",
    "tech_list[1] = \"Ruby\"\n",
    "\n",
    "tech_list.remove(\"Go\")\n",
    "\n",
    "current_length = len(tech_list)\n",
    "print(f\"获取到的第一个技术名称：{first_tech}\")\n",
    "print(f\"列表当前的长度：{current_length}\")\n",
    "print(f\"最终列表的内容：{tech_list}\")\n"
   ]
  },
  {
   "cell_type": "markdown",
   "id": "506d0abf",
   "metadata": {},
   "source": [
    "计算1+100的和 用for循环来写\n"
   ]
  },
  {
   "cell_type": "code",
   "execution_count": 2,
   "id": "70269527",
   "metadata": {},
   "outputs": [
    {
     "name": "stdout",
     "output_type": "stream",
     "text": [
      "1加到100的和：5050\n"
     ]
    }
   ],
   "source": [
    "total = 0\n",
    "for i in range(1,101):\n",
    "    total += i\n",
    "print(f\"1加到100的和：{total}\")\n",
    "\n"
   ]
  },
  {
   "cell_type": "code",
   "execution_count": 3,
   "id": "f7080a79",
   "metadata": {},
   "outputs": [
    {
     "name": "stdout",
     "output_type": "stream",
     "text": [
      "1加到100的和是：5050\n"
     ]
    }
   ],
   "source": [
    "result = sum(i for i in range(1,101))\n",
    "print(f\"1加到100的和是：{result}\")"
   ]
  },
  {
   "cell_type": "markdown",
   "id": "732f6c70",
   "metadata": {},
   "source": [
    "判断语句\n",
    "温度预警系统\n",
    "1. 定义一个变量temperature存储当前温度（整数）\n",
    "2. 根据以下条件判断并打印预警信息：\n",
    "   - 高于35度：打印\"红色预警：高温天气！\"\n",
    "   - 28-35度：打印\"黄色预警：天气炎热\"\n",
    "   - 20-27度：打印\"绿色提示：适宜温度\"\n",
    "   - 低于20度：打印\"蓝色预警：注意保暖\"\n",
    "3. 使用if-elif-else结构实现\n",
    "4. 测试用例：用38你的代码\n"
   ]
  },
  {
   "cell_type": "code",
   "execution_count": 5,
   "id": "f4c57c44",
   "metadata": {},
   "outputs": [
    {
     "name": "stdout",
     "output_type": "stream",
     "text": [
      "蓝色预警：注意保暖\n"
     ]
    }
   ],
   "source": [
    "temperature = 15\n",
    "\n",
    "if temperature > 35:\n",
    "    print(\"红色预警：高温天气！\")\n",
    "elif 28<= temperature <=35:\n",
    "    print(\"橙色预警：天气炎热\")\n",
    "elif 20<= temperature <=27:\n",
    "    print(\"绿色提示：适宜温度\")\n",
    "else:\n",
    "    print(\"蓝色预警：注意保暖\")"
   ]
  },
  {
   "cell_type": "markdown",
   "id": "db52b22b",
   "metadata": {},
   "source": [
    "1. 定义一个包含整数的列表 `scores`，赋值为 `[85, 92, 78, 65, 95, 88]`。\n",
    "2. 初始化两个变量：`excellent_count` 用于记录分数大于等于 90 的个数，初始值为 0；`total_score` 用于累加所有分数，初始值为 0。\n",
    "3. 使用 `for` 循环遍历 `scores` 列表中的每一个分数。\n",
    "4. 在循环内部：\n",
    "   a. 将当前分数累加到 `total_score` 变量上。\n",
    "   b. 使用 `if` 语句判断当前分数是否大于等于 90。如果是，则将 `excellent_count` 变量加 1。\n",
    "5. 循环结束后，计算平均分 `average_score`（总分除以分数的个数）。\n",
    "6. 使用 f-string 分三行打印出以下信息：\n",
    "7. 优秀分数（>=90）的个数。\n",
    "8. 所有分数的总和。\n",
    "9. 所有分数的平均分（结果包含 3 位小数）。\n",
    "\n",
    "打印格式应类似：\n",
    "```\n",
    "优秀分数个数: 3\n",
    "分数总和: 503\n",
    "平均分数: 83.833\n",
    "```"
   ]
  },
  {
   "cell_type": "code",
   "execution_count": 8,
   "id": "800ee09e",
   "metadata": {},
   "outputs": [
    {
     "name": "stdout",
     "output_type": "stream",
     "text": [
      "优秀分数个数: 2\n",
      "分数总和: 503\n",
      "平均分数: 83.833\n"
     ]
    }
   ],
   "source": [
    "scores = [85,92,78,65,95,88]\n",
    "excellent_count = 0\n",
    "total_score = 0\n",
    "for i in scores:\n",
    "    total_score += i\n",
    "    if i >= 90:\n",
    "        excellent_count += 1\n",
    "\n",
    "average_score = total_score / len(scores)\n",
    "\n",
    "print(f\"优秀分数个数: {excellent_count}\")\n",
    "print(f\"分数总和: {total_score}\")\n",
    "print(f\"平均分数: {average_score:.3f}\")\n"
   ]
  }
 ],
 "metadata": {
  "kernelspec": {
   "display_name": "vs",
   "language": "python",
   "name": "python3"
  },
  "language_info": {
   "codemirror_mode": {
    "name": "ipython",
    "version": 3
   },
   "file_extension": ".py",
   "mimetype": "text/x-python",
   "name": "python",
   "nbconvert_exporter": "python",
   "pygments_lexer": "ipython3",
   "version": "3.9.19"
  }
 },
 "nbformat": 4,
 "nbformat_minor": 5
}
