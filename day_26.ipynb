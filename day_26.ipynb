{
 "cells": [
  {
   "cell_type": "code",
   "execution_count": 1,
   "id": "f14df017",
   "metadata": {},
   "outputs": [
    {
     "name": "stdout",
     "output_type": "stream",
     "text": [
      "大家好！欢迎学习Python函数定义！\n"
     ]
    }
   ],
   "source": [
    "def greet():\n",
    "    \"\"\"打印一句问候语。\"\"\"\n",
    "    message = \"大家好！欢迎学习Python函数定义！\"\n",
    "    print(message)\n",
    "\n",
    "greet()"
   ]
  },
  {
   "cell_type": "code",
   "execution_count": 2,
   "id": "2218be45",
   "metadata": {},
   "outputs": [
    {
     "name": "stdout",
     "output_type": "stream",
     "text": [
      "你好, 张三! 很高兴认识你。\n"
     ]
    }
   ],
   "source": [
    "def greet_person(name):\n",
    "    \"\"\"根据给定的名字打印问候语。\n",
    "\n",
    "    Args:\n",
    "        name (str): 要问候的人的名字。\n",
    "    \"\"\"\n",
    "    message = f\"你好, {name}! 很高兴认识你。\"\n",
    "    print(message)\n",
    "\n",
    "greet_person(\"张三\") "
   ]
  },
  {
   "cell_type": "code",
   "execution_count": 3,
   "id": "b022eddc",
   "metadata": {},
   "outputs": [
    {
     "name": "stdout",
     "output_type": "stream",
     "text": [
      "10 + 25 = 35\n"
     ]
    }
   ],
   "source": [
    "def add_features(feature1, feature2):\n",
    "    \"\"\"计算两个数值特征的和。\n",
    "\n",
    "    Args:\n",
    "        feature1 (float or int): 第一个特征值。\n",
    "        feature2 (float or int): 第二个特征值。\n",
    "    \"\"\"\n",
    "    total = feature1 + feature2\n",
    "    print(f\"{feature1} + {feature2} = {total}\")\n",
    "\n",
    "add_features(10, 25) "
   ]
  },
  {
   "cell_type": "code",
   "execution_count": 4,
   "id": "f74b0057",
   "metadata": {},
   "outputs": [
    {
     "data": {
      "text/plain": [
       "5"
      ]
     },
     "execution_count": 4,
     "metadata": {},
     "output_type": "execute_result"
    }
   ],
   "source": [
    "def calculate_sum(a, b):\n",
    "    \"\"\"计算两个数的和并返回结果。\n",
    "\n",
    "    Args:\n",
    "        a (float or int): 第一个数。\n",
    "        b (float or int): 第二个数。\n",
    "\n",
    "    Returns:\n",
    "        float or int: 两个数的和。\n",
    "    \"\"\"\n",
    "    result = a + b\n",
    "    return result\n",
    "    print(\"hhh\")\n",
    "\n",
    "calculate_sum(2, 3)"
   ]
  },
  {
   "cell_type": "code",
   "execution_count": 5,
   "id": "2816541c",
   "metadata": {},
   "outputs": [
    {
     "name": "stdout",
     "output_type": "stream",
     "text": [
      "原始数据: [1, 2, 3, 4, 5]\n",
      "预处理后数据: [2, 4, 6, 8, 10]\n"
     ]
    }
   ],
   "source": [
    "def preprocess_data(raw_data_points):\n",
    "    \"\"\"模拟数据预处理，例如将所有数据点乘以2。\n",
    "\n",
    "    Args:\n",
    "        raw_data_points (list): 原始数据点列表。\n",
    "\n",
    "    Returns:\n",
    "        list: 处理后的数据点列表。\n",
    "    \"\"\"\n",
    "    processed = []\n",
    "    for point in raw_data_points:\n",
    "        processed.append(point * 2) # 假设预处理是乘以2\n",
    "    return processed\n",
    "\n",
    "data = [1, 2, 3, 4, 5]\n",
    "processed_data = preprocess_data(data)\n",
    "\n",
    "print(f\"原始数据: {data}\")\n",
    "print(f\"预处理后数据: {processed_data}\")"
   ]
  },
  {
   "cell_type": "code",
   "execution_count": 6,
   "id": "51cc774b",
   "metadata": {},
   "outputs": [
    {
     "name": "stdout",
     "output_type": "stream",
     "text": [
      "\n",
      "--- 变量作用域示例 ---\n",
      "在函数内部，可以看到局部变量: '我是一个局部变量'\n",
      "在函数内部，也可以看到全局变量: '我是一个全局变量'\n",
      "\n",
      "在函数外部，可以看到全局变量: '我是一个全局变量'\n"
     ]
    }
   ],
   "source": [
    "print(\"\\n--- 变量作用域示例 ---\")\n",
    "global_var = \"我是一个全局变量\"\n",
    "\n",
    "def scope_test():\n",
    "    local_var = \"我是一个局部变量\"\n",
    "    print(f\"在函数内部，可以看到局部变量: '{local_var}'\")\n",
    "    print(f\"在函数内部，也可以看到全局变量: '{global_var}'\")\n",
    "    # global_var = \"尝试在函数内修改全局变量\" # 如果没有 global 声明，这会创建一个新的局部变量 global_var\n",
    "    # print(f\"在函数内部，修改后的 '全局' 变量: '{global_var}'\")\n",
    "\n",
    "scope_test()\n",
    "\n",
    "print(f\"\\n在函数外部，可以看到全局变量: '{global_var}'\")"
   ]
  },
  {
   "cell_type": "code",
   "execution_count": 7,
   "id": "83539ae7",
   "metadata": {},
   "outputs": [
    {
     "name": "stdout",
     "output_type": "stream",
     "text": [
      "\n",
      "我有一只 猫.\n",
      "我的 猫 的名字叫 咪咪.\n"
     ]
    }
   ],
   "source": [
    "def describe_pet(animal_type, pet_name):\n",
    "    \"\"\"显示宠物的信息。\"\"\"\n",
    "    print(f\"\\n我有一只 {animal_type}.\")\n",
    "    print(f\"我的 {animal_type} 的名字叫 {pet_name.title()}.\")\n",
    "\n",
    "describe_pet(\"猫\", \"咪咪\")"
   ]
  },
  {
   "cell_type": "code",
   "execution_count": 8,
   "id": "7d3480b9",
   "metadata": {},
   "outputs": [
    {
     "name": "stdout",
     "output_type": "stream",
     "text": [
      "我有一只 狗.\n",
      "我的 狗 的名字叫 小黑.\n",
      "我有一只 仓鼠.\n",
      "我的 仓鼠 的名字叫 雪球.\n"
     ]
    }
   ],
   "source": [
    "def describe_pet_default(pet_name, animal_type=\"狗\"): # animal_type 有默认值\n",
    "    \"\"\"显示宠物的信息，动物类型默认为狗。\"\"\"\n",
    "    print(f\"我有一只 {animal_type}.\")\n",
    "    print(f\"我的 {animal_type} 的名字叫 {pet_name.title()}.\")\n",
    "\n",
    "describe_pet_default(pet_name=\"小黑\") # animal_type 使用默认值 \"狗\"\n",
    "describe_pet_default(pet_name=\"雪球\", animal_type=\"仓鼠\") "
   ]
  },
  {
   "cell_type": "code",
   "execution_count": 9,
   "id": "2c7c3234",
   "metadata": {},
   "outputs": [
    {
     "name": "stdout",
     "output_type": "stream",
     "text": [
      "\n",
      "制作一个 12 寸的比萨，配料如下:\n",
      "- 蘑菇\n",
      "\n",
      "制作一个 16 寸的比萨，配料如下:\n",
      "- 香肠\n",
      "- 青椒\n",
      "- 洋葱\n",
      "\n",
      "制作一个 9 寸的比萨，配料如下:\n",
      "- 原味 (无额外配料)\n"
     ]
    }
   ],
   "source": [
    "def make_pizza(size, *toppings):\n",
    "    \"\"\"概述要制作的比萨。\n",
    "    *toppings 会将所有额外的位臵参数收集到一个元组中。\n",
    "    \"\"\"\n",
    "    print(f\"\\n制作一个 {size} 寸的比萨，配料如下:\")\n",
    "    if toppings: # 只要toppings不为空元组，就会执行\n",
    "        for topping in toppings:\n",
    "            print(f\"- {topping}\")\n",
    "    else:\n",
    "        print(\"- 原味 (无额外配料)\")\n",
    "\n",
    "make_pizza(12, \"蘑菇\")\n",
    "make_pizza(16, \"香肠\", \"青椒\", \"洋葱\")\n",
    "make_pizza(9) # toppings 会是空元组"
   ]
  },
  {
   "cell_type": "code",
   "execution_count": 10,
   "id": "841604cf",
   "metadata": {},
   "outputs": [
    {
     "name": "stdout",
     "output_type": "stream",
     "text": [
      "\n",
      "用户信息: {'first_name': '爱因斯坦', 'last_name': '阿尔伯特', 'location': '普林斯顿', 'field': '物理学', 'hobby': '小提琴'}\n"
     ]
    }
   ],
   "source": [
    "def build_profile(first_name, last_name, **user_info):\n",
    "    \"\"\"创建一个字典，其中包含我们知道的有关用户的一切。\n",
    "    **user_info 会将所有额外的关键字参数收集到一个字典中。\n",
    "    \"\"\"\n",
    "    profile = {}\n",
    "    profile['first_name'] = first_name\n",
    "    profile['last_name'] = last_name\n",
    "    for key, value in user_info.items():\n",
    "        profile[key] = value\n",
    "    return profile\n",
    "\n",
    "user_profile = build_profile('爱因斯坦', '阿尔伯特',\n",
    "                             location='普林斯顿',\n",
    "                             field='物理学',\n",
    "                             hobby='小提琴')\n",
    "print(f\"\\n用户信息: {user_profile}\")"
   ]
  },
  {
   "cell_type": "code",
   "execution_count": 11,
   "id": "f8c6e978",
   "metadata": {},
   "outputs": [
    {
     "name": "stdout",
     "output_type": "stream",
     "text": [
      "ID: 101\n",
      "Name: Alice\n",
      "Tags (*args): ('vip', 'new_user')\n",
      "Status: pending\n",
      "Details (**kwargs): {'location': 'USA', 'age': 30}\n",
      "--------------------\n",
      "ID: 102\n",
      "Name: Bob\n",
      "Tags (*args): ()\n",
      "Status: active\n",
      "Details (**kwargs): {'department': 'Sales'}\n",
      "--------------------\n",
      "ID: 103\n",
      "Name: Charlie\n",
      "Tags (*args): ('admin',)\n",
      "Status: pending\n",
      "Details (**kwargs): {}\n",
      "--------------------\n",
      "ID: 104\n",
      "Name: David\n",
      "Tags (*args): ()\n",
      "Status: pending\n",
      "Details (**kwargs): {'profession': 'Engineer'}\n",
      "--------------------\n"
     ]
    }
   ],
   "source": [
    "def process_data(id_num, name, *tags, status=\"pending\", **details): # 注意，这里的status 是仅关键字参数，必须通过关键词传值\n",
    "    print(f\"ID: {id_num}\")\n",
    "    print(f\"Name: {name}\")\n",
    "    print(f\"Tags (*args): {tags}\")\n",
    "    print(f\"Status: {status}\")          # status 是一个有默认值的普通关键字参数\n",
    "    print(f\"Details (**kwargs): {details}\")\n",
    "    print(\"-\" * 20)\n",
    "\n",
    "# 调用1:\n",
    "process_data(101, \"Alice\", \"vip\", \"new_user\", location=\"USA\", age=30)\n",
    "# ID: 101\n",
    "# Name: Alice\n",
    "# Tags (*args): ('vip', 'new_user')  <-- \"vip\", \"new_user\" 是多余的位置参数，被 *tags 收集\n",
    "# Status: pending                    <-- status 使用默认值，因为调用中没有 status=...\n",
    "# Details (**kwargs): {'location': 'USA', 'age': 30} <-- location 和 age 是多余的关键字参数，被 **details 收集\n",
    "# --------------------\n",
    "\n",
    "# 调用2:\n",
    "process_data(102, \"Bob\", status=\"active\", department=\"Sales\")\n",
    "# ID: 102\n",
    "# Name: Bob\n",
    "# Tags (*args): ()                   <-- 没有多余的位置参数\n",
    "# Status: active                     <-- status 被关键字参数 'active' 覆盖\n",
    "# Details (**kwargs): {'department': 'Sales'} <-- department 是多余的关键字参数\n",
    "# --------------------\n",
    "\n",
    "# 调用3:\n",
    "process_data(103, \"Charlie\", \"admin\") # 'admin' 会被 *tags 捕获\n",
    "# ID: 103\n",
    "# Name: Charlie\n",
    "# Tags (*args): ('admin',)\n",
    "# Status: pending\n",
    "# Details (**kwargs): {}\n",
    "# --------------------\n",
    "\n",
    "# 调用4: (演示关键字参数也可以用于定义中的位置参数)\n",
    "process_data(name=\"David\", id_num=104, profession=\"Engineer\")\n",
    "# ID: 104\n",
    "# Name: David\n",
    "# Tags (*args): ()\n",
    "# Status: pending\n",
    "# Details (**kwargs): {'profession': 'Engineer'}\n",
    "# --------------------"
   ]
  }
 ],
 "metadata": {
  "kernelspec": {
   "display_name": "vs",
   "language": "python",
   "name": "python3"
  },
  "language_info": {
   "codemirror_mode": {
    "name": "ipython",
    "version": 3
   },
   "file_extension": ".py",
   "mimetype": "text/x-python",
   "name": "python",
   "nbconvert_exporter": "python",
   "pygments_lexer": "ipython3",
   "version": "3.9.19"
  }
 },
 "nbformat": 4,
 "nbformat_minor": 5
}
