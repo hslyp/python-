{
 "cells": [
  {
   "cell_type": "code",
   "execution_count": 2,
   "id": "26132917",
   "metadata": {},
   "outputs": [
    {
     "name": "stdout",
     "output_type": "stream",
     "text": [
      "--- 使用 try-except 捕获 ZeroDivisionError ---\n",
      "尝试进行除法运算...\n",
      "发生了一个除以零的错误！\n",
      "程序继续执行... 最终结果的记录为: 未定义 (除以零)\n"
     ]
    }
   ],
   "source": [
    "print(\"--- 使用 try-except 捕获 ZeroDivisionError ---\")\n",
    "numerator = 10\n",
    "denominator = 0\n",
    "\n",
    "try:\n",
    "    print(\"尝试进行除法运算...\")\n",
    "    result = numerator / denominator # 潜在的风险代码\n",
    "    print(f\"计算结果是: {result}\") # 如果上面出错，这行不会执行\n",
    "except ZeroDivisionError:\n",
    "    print(\"发生了一个除以零的错误！\")\n",
    "    result = \"未定义 (除以零)\" # 可以给一个默认值或提示\n",
    "\n",
    "print(f\"程序继续执行... 最终结果的记录为: {result}\")"
   ]
  },
  {
   "cell_type": "code",
   "execution_count": 3,
   "id": "2f16cc31",
   "metadata": {},
   "outputs": [
    {
     "name": "stdout",
     "output_type": "stream",
     "text": [
      "--- 使用 try-except 捕获 TypeError ---\n",
      "尝试连接字符串和数字...\n",
      "类型错误！不能直接将字符串和数字相加。\n",
      "尝试将数字转换为字符串进行连接...\n",
      "修正后的消息: Total items: 5\n",
      "程序继续... 生成的消息是: Total items: 5\n"
     ]
    }
   ],
   "source": [
    "print(\"--- 使用 try-except 捕获 TypeError ---\")\n",
    "x = \"Total items: \"\n",
    "y = 5 # 假设这是一个从某处获取的数字\n",
    "\n",
    "try:\n",
    "    print(\"尝试连接字符串和数字...\")\n",
    "    message = x + y # 潜在的 TypeError\n",
    "    print(f\"最终消息: {message}\")\n",
    "except TypeError:\n",
    "    print(\"类型错误！不能直接将字符串和数字相加。\")\n",
    "    print(\"尝试将数字转换为字符串进行连接...\")\n",
    "    message = x + str(y) # 修正操作\n",
    "    print(f\"修正后的消息: {message}\")\n",
    "\n",
    "print(f\"程序继续... 生成的消息是: {message}\")"
   ]
  },
  {
   "cell_type": "code",
   "execution_count": 4,
   "id": "f0b2a0e7",
   "metadata": {},
   "outputs": [
    {
     "name": "stdout",
     "output_type": "stream",
     "text": [
      "--- try-except-else 示例 ---\n",
      "\n",
      "尝试计算 10 / 2\n",
      "除法运算成功！\n",
      "结果是: 5.0\n",
      "结果的两倍是: 10.0\n",
      "\n",
      "尝试计算 10 / 0\n",
      "错误：除数不能为零！\n",
      "\n",
      "尝试计算 10 / 2\n",
      "错误：输入必须是数字！\n",
      "\n",
      "尝试计算 20 / abc\n",
      "错误：输入必须是数字！\n"
     ]
    }
   ],
   "source": [
    "print(\"--- try-except-else 示例 ---\")\n",
    "\n",
    "def safe_divide(a, b):\n",
    "    print(f\"\\n尝试计算 {a} / {b}\")\n",
    "    try:\n",
    "        result = a / b\n",
    "    except ZeroDivisionError:\n",
    "        print(\"错误：除数不能为零！\")\n",
    "        return None # 或者其他表示失败的值\n",
    "    except TypeError:\n",
    "        print(\"错误：输入必须是数字！\")\n",
    "        return None\n",
    "    else:\n",
    "        # 只有当 try 块中的 a / b 成功执行时，这里才会执行\n",
    "        print(\"除法运算成功！\")\n",
    "        print(f\"结果是: {result}\")\n",
    "        # 可以在这里进行基于成功结果的进一步操作\n",
    "        print(f\"结果的两倍是: {result * 2}\")\n",
    "        return result\n",
    "\n",
    "# 测试用例\n",
    "safe_divide(10, 2)  # 成功\n",
    "safe_divide(10, 0)  # ZeroDivisionError\n",
    "safe_divide(\"10\", 2) # TypeError (如果我们不先做类型转换的话)\n",
    "safe_divide(20, \"abc\") # TypeError"
   ]
  },
  {
   "cell_type": "markdown",
   "id": "07f1a704",
   "metadata": {},
   "source": [
    "finally 子句\n",
    "finally 子句中的代码无论 try 块中是否发生异常，也无论 except 块是否被执行，甚至无论 try 或 except 块中是否有 return 语句，它总会被执行。\n",
    "\n",
    "finally这个无论如何都会执行的特性，在机器学习和深度学习的中，多涉及资源的保存、文件的关闭等。\n",
    "\n",
    "1. 无论训练成功、失败还是中途被打断，都确保日志文件被正确关闭，避免数据丢失或文件损坏。\n",
    "2. 确保计算资源在使用完毕后被释放，供其他进程或任务使用。更常见的是使用 with 语句来自动管理这类资源，with 语句本身就隐式地使用了类似 finally 的机制。（with open语句）\n",
    "3. 关闭数据库连接\n",
    "4. 恢复全局状态或配置， 如果程序在运行过程中修改了全局变量或配置文件，在异常处理结束后，需要恢复到之前的状态或配置。\n",
    "5. 模型训练可能非常耗时，如果中途因为各种原因（OOM、手动中断、硬件故障）停止，我们希望记录下中断的状态，方便后续恢复。\n",
    "\n",
    "在ML/DL项目中，由于流程长、资源消耗大、外部依赖多，finally 提供的这种“保证执行”的机制对于构建稳定、可靠的系统至关重要"
   ]
  }
 ],
 "metadata": {
  "kernelspec": {
   "display_name": "vs",
   "language": "python",
   "name": "python3"
  },
  "language_info": {
   "codemirror_mode": {
    "name": "ipython",
    "version": 3
   },
   "file_extension": ".py",
   "mimetype": "text/x-python",
   "name": "python",
   "nbconvert_exporter": "python",
   "pygments_lexer": "ipython3",
   "version": "3.9.19"
  }
 },
 "nbformat": 4,
 "nbformat_minor": 5
}
