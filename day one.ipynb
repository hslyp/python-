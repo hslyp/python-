{
 "cells": [
  {
   "cell_type": "markdown",
   "id": "76c0da21",
   "metadata": {},
   "source": [
    "### 题目\n",
    "```\n",
    "定义三个变量 a, b, c，并分别将整数 1, 2, 3 赋值给它们。然后，使用 print() 函数将每个变量的值单独打印出来，每个值占一行"
   ]
  },
  {
   "cell_type": "code",
   "execution_count": 1,
   "id": "60c34676",
   "metadata": {},
   "outputs": [
    {
     "name": "stdout",
     "output_type": "stream",
     "text": [
      "1\n",
      "2\n",
      "3\n"
     ]
    }
   ],
   "source": [
    "a = 1\n",
    "b = 2\n",
    "c = 3\n",
    "\n",
    "print(a);\n",
    "print(b);\n",
    "print(c);\n"
   ]
  },
  {
   "cell_type": "code",
   "execution_count": 2,
   "id": "2d7e3574",
   "metadata": {},
   "outputs": [
    {
     "name": "stdout",
     "output_type": "stream",
     "text": [
      "1\n",
      "2\n",
      "3\n"
     ]
    }
   ],
   "source": [
    "a = 1\n",
    "b = 2\n",
    "c = 3\n",
    "\n",
    "print(str(a) + \"\\n\" + str(b) + \"\\n\" + str(c))"
   ]
  },
  {
   "cell_type": "code",
   "execution_count": 5,
   "id": "16f9caa3",
   "metadata": {},
   "outputs": [
    {
     "name": "stdout",
     "output_type": "stream",
     "text": [
      "1\n",
      "2\n",
      "3\n"
     ]
    }
   ],
   "source": [
    "a = 1\n",
    "b = 2\n",
    "c = 3\n",
    "\n",
    "print(f\"{a}\\n{b}\\n{c}\")\n"
   ]
  },
  {
   "cell_type": "markdown",
   "id": "36943f62",
   "metadata": {},
   "source": [
    "### 题目:\n",
    " 创建两个变量：name 存储你的名字（字符串，例如 \"小明\"），city 存储你所在的城市（字符串，例如 \"北京\"）。使用 f-string 将这两个变量组合成一句话并打印出来。\n",
    "#### 进阶\n",
    "如果想在输出的姓名两边加上引号，例如 姓名: \"小明\", 城市: 北京，f-string 语句应该怎么写？\n",
    "只用一个 print() 和 f-string，如何让姓名和城市分两行输出？\n"
   ]
  },
  {
   "cell_type": "code",
   "execution_count": 6,
   "id": "fc2eef4d",
   "metadata": {},
   "outputs": [
    {
     "name": "stdout",
     "output_type": "stream",
     "text": [
      "我叫小明,我来自北京。\n"
     ]
    }
   ],
   "source": [
    "name = \"小明\"\n",
    "city = \"北京\"\n",
    "\n",
    "print(f\"我叫{name},我来自{city}。\")"
   ]
  },
  {
   "cell_type": "code",
   "execution_count": 9,
   "id": "220f05d2",
   "metadata": {},
   "outputs": [
    {
     "name": "stdout",
     "output_type": "stream",
     "text": [
      "姓名:\"小明\",城市:\"北京\"\n",
      "姓名:\"小明\"\n",
      "城市:\"北京\"\n"
     ]
    }
   ],
   "source": [
    "print(f'姓名:\"{name}\",城市:\"{city}\"')\n",
    "print(f'姓名:\"{name}\"\\n城市:\"{city}\"')"
   ]
  },
  {
   "cell_type": "markdown",
   "id": "d12aa517",
   "metadata": {},
   "source": [
    "#### 题目:\n",
    " 定义两个整数变量，num1 赋值为 20，num2 赋值为 8。计算这两个变量的和，并将结果存储在一个新的变量 a 中；计算这两个变量的商，叫做b；计算这两个变量的余数，叫做c。然后，使用 f-string 打印出类似 “20 加 8 的结果是：28” 的信息，分成三行打印。\n"
   ]
  },
  {
   "cell_type": "code",
   "execution_count": 14,
   "id": "691ba00e",
   "metadata": {},
   "outputs": [
    {
     "name": "stdout",
     "output_type": "stream",
     "text": [
      "20加8的结果是:\"28\"\n",
      "20除8的结果是:\"2.5\"\n",
      "20除8的余数是:\"2\"\n"
     ]
    }
   ],
   "source": [
    "num1 = 20\n",
    "num2 = 8\n",
    "a = num1 + num2\n",
    "b = num1 / num2\n",
    "c = num1 //num2\n",
    "print(f'{num1}加{num2}的结果是:\"{a}\"\\n{num1}除{num2}的结果是:\"{b}\"\\n{num1}除{num2}的余数是:\"{c}\"')"
   ]
  },
  {
   "cell_type": "markdown",
   "id": "94f47e0c",
   "metadata": {},
   "source": [
    "#### 题目:\n",
    " 定义两个浮点数变量，price 赋值为 19.9，discount 赋值为 0.8 (表示 8 折)。计算折扣后的价格，并将结果存储在变量 final_price 中；计算节省了多少钱，存储在变量 saved_amount 中。然后，使用 f-string 分两行打印出类似以下格式的信息：\n",
    "```\n",
    "最终价格是: 15.92\n",
    "节省金额是: 3.98\n"
   ]
  },
  {
   "cell_type": "code",
   "execution_count": 15,
   "id": "9fb14259",
   "metadata": {},
   "outputs": [
    {
     "name": "stdout",
     "output_type": "stream",
     "text": [
      "最终价格是:\"15.92\"\n",
      "节省金额是:\"3.98\"\n"
     ]
    }
   ],
   "source": [
    "price = 19.9\n",
    "discount = 0.8\n",
    "\n",
    "final_price = price * discount\n",
    "saved_amount = price - final_price\n",
    "\n",
    "print(f'最终价格是:\"{final_price:.2f}\"\\n节省金额是:\"{saved_amount:.2f}\"')"
   ]
  }
 ],
 "metadata": {
  "kernelspec": {
   "display_name": "vs",
   "language": "python",
   "name": "python3"
  },
  "language_info": {
   "codemirror_mode": {
    "name": "ipython",
    "version": 3
   },
   "file_extension": ".py",
   "mimetype": "text/x-python",
   "name": "python",
   "nbconvert_exporter": "python",
   "pygments_lexer": "ipython3",
   "version": "3.9.19"
  }
 },
 "nbformat": 4,
 "nbformat_minor": 5
}
