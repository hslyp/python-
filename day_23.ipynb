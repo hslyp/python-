{
 "cells": [
  {
   "cell_type": "code",
   "execution_count": 1,
   "id": "b62da2ab",
   "metadata": {},
   "outputs": [
    {
     "name": "stderr",
     "output_type": "stream",
     "text": [
      "c:\\Anaconda\\envs\\vs\\lib\\site-packages\\scipy\\__init__.py:146: UserWarning: A NumPy version >=1.16.5 and <1.23.0 is required for this version of SciPy (detected version 1.26.4\n",
      "  warnings.warn(f\"A NumPy version >={np_minversion} and <{np_maxversion}\"\n"
     ]
    },
    {
     "name": "stdout",
     "output_type": "stream",
     "text": [
      "--- 1. 默认参数随机森林 (训练集 -> 测试集) ---\n",
      "训练与预测耗时: 0.8621 秒\n",
      "\n",
      "默认随机森林 在测试集上的分类报告：\n",
      "              precision    recall  f1-score   support\n",
      "\n",
      "           0       0.77      0.97      0.86      1059\n",
      "           1       0.79      0.30      0.43       441\n",
      "\n",
      "    accuracy                           0.77      1500\n",
      "   macro avg       0.78      0.63      0.64      1500\n",
      "weighted avg       0.77      0.77      0.73      1500\n",
      "\n",
      "默认随机森林 在测试集上的混淆矩阵：\n",
      "[[1023   36]\n",
      " [ 309  132]]\n"
     ]
    }
   ],
   "source": [
    "# 先运行之前预处理好的代码\n",
    "import pandas as pd\n",
    "import pandas as pd    #用于数据处理和分析，可处理表格数据。\n",
    "import numpy as np     #用于数值计算，提供了高效的数组操作。\n",
    "import matplotlib.pyplot as plt    #用于绘制各种类型的图表\n",
    "import seaborn as sns   #基于matplotlib的高级绘图库，能绘制更美观的统计图形。\n",
    "import warnings\n",
    "warnings.filterwarnings(\"ignore\")\n",
    " \n",
    " # 设置中文字体（解决中文显示问题）\n",
    "plt.rcParams['font.sans-serif'] = ['SimHei']  # Windows系统常用黑体字体\n",
    "plt.rcParams['axes.unicode_minus'] = False    # 正常显示负号\n",
    "data = pd.read_csv('data.csv')    #读取数据\n",
    "\n",
    "\n",
    "# 先筛选字符串变量 \n",
    "discrete_features = data.select_dtypes(include=['object']).columns.tolist()\n",
    "# Home Ownership 标签编码\n",
    "home_ownership_mapping = {\n",
    "    'Own Home': 1,\n",
    "    'Rent': 2,\n",
    "    'Have Mortgage': 3,\n",
    "    'Home Mortgage': 4\n",
    "}\n",
    "data['Home Ownership'] = data['Home Ownership'].map(home_ownership_mapping)\n",
    "\n",
    "# Years in current job 标签编码\n",
    "years_in_job_mapping = {\n",
    "    '< 1 year': 1,\n",
    "    '1 year': 2,\n",
    "    '2 years': 3,\n",
    "    '3 years': 4,\n",
    "    '4 years': 5,\n",
    "    '5 years': 6,\n",
    "    '6 years': 7,\n",
    "    '7 years': 8,\n",
    "    '8 years': 9,\n",
    "    '9 years': 10,\n",
    "    '10+ years': 11\n",
    "}\n",
    "data['Years in current job'] = data['Years in current job'].map(years_in_job_mapping)\n",
    "\n",
    "# Purpose 独热编码，记得需要将bool类型转换为数值\n",
    "data = pd.get_dummies(data, columns=['Purpose'])\n",
    "data2 = pd.read_csv(\"data.csv\") # 重新读取数据，用来做列名对比\n",
    "list_final = [] # 新建一个空列表，用于存放独热编码后新增的特征名\n",
    "for i in data.columns:\n",
    "    if i not in data2.columns:\n",
    "       list_final.append(i) # 这里打印出来的就是独热编码后的特征名\n",
    "for i in list_final:\n",
    "    data[i] = data[i].astype(int) # 这里的i就是独热编码后的特征名\n",
    "\n",
    "\n",
    "\n",
    "# Term 0 - 1 映射\n",
    "term_mapping = {\n",
    "    'Short Term': 0,\n",
    "    'Long Term': 1\n",
    "}\n",
    "data['Term'] = data['Term'].map(term_mapping)\n",
    "data.rename(columns={'Term': 'Long Term'}, inplace=True) # 重命名列\n",
    "continuous_features = data.select_dtypes(include=['int64', 'float64']).columns.tolist()  #把筛选出来的列名转换成列表\n",
    " \n",
    " # 连续特征用中位数补全\n",
    "for feature in continuous_features:     \n",
    "    mode_value = data[feature].mode()[0]            #获取该列的众数。\n",
    "    data[feature].fillna(mode_value, inplace=True)          #用众数填充该列的缺失值，inplace=True表示直接在原数据上修改。\n",
    "\n",
    "# 最开始也说了 很多调参函数自带交叉验证，甚至是必选的参数，你如果想要不交叉反而实现起来会麻烦很多\n",
    "# 所以这里我们还是只划分一次数据集\n",
    "from sklearn.model_selection import train_test_split\n",
    "X = data.drop(['Credit Default'], axis=1)  # 特征，axis=1表示按列删除\n",
    "y = data['Credit Default'] # 标签\n",
    "# 按照8:2划分训练集和测试集\n",
    "X_train, X_test, y_train, y_test = train_test_split(X, y, test_size=0.2, random_state=42)  # 80%训练集，20%测试集\n",
    "\n",
    "\n",
    "from sklearn.ensemble import RandomForestClassifier #随机森林分类器\n",
    "\n",
    "from sklearn.metrics import accuracy_score, precision_score, recall_score, f1_score # 用于评估分类器性能的指标\n",
    "from sklearn.metrics import classification_report, confusion_matrix #用于生成分类报告和混淆矩阵\n",
    "import warnings #用于忽略警告信息\n",
    "warnings.filterwarnings(\"ignore\") # 忽略所有警告信息\n",
    "# --- 1. 默认参数的随机森林 ---\n",
    "# 评估基准模型，这里确实不需要验证集\n",
    "print(\"--- 1. 默认参数随机森林 (训练集 -> 测试集) ---\")\n",
    "import time # 这里介绍一个新的库，time库，主要用于时间相关的操作，因为调参需要很长时间，记录下会帮助后人知道大概的时长\n",
    "start_time = time.time() # 记录开始时间\n",
    "rf_model = RandomForestClassifier(random_state=42)\n",
    "rf_model.fit(X_train, y_train) # 在训练集上训练\n",
    "rf_pred = rf_model.predict(X_test) # 在测试集上预测\n",
    "end_time = time.time() # 记录结束时间\n",
    "\n",
    "print(f\"训练与预测耗时: {end_time - start_time:.4f} 秒\")\n",
    "print(\"\\n默认随机森林 在测试集上的分类报告：\")\n",
    "print(classification_report(y_test, rf_pred))\n",
    "print(\"默认随机森林 在测试集上的混淆矩阵：\")\n",
    "print(confusion_matrix(y_test, rf_pred))\n"
   ]
  },
  {
   "cell_type": "code",
   "execution_count": 3,
   "id": "8ff796ed",
   "metadata": {},
   "outputs": [
    {
     "name": "stdout",
     "output_type": "stream",
     "text": [
      "原始数据加载完成，形状为: (7500, 18)\n"
     ]
    }
   ],
   "source": [
    "# 导入基础库\n",
    "import pandas as pd\n",
    "import numpy as np\n",
    "import matplotlib.pyplot as plt\n",
    "import seaborn as sns\n",
    "import time # 导入 time 库\n",
    "import warnings\n",
    "\n",
    "# 忽略警告\n",
    "warnings.filterwarnings(\"ignore\")\n",
    "\n",
    "# 设置中文字体和负号正常显示\n",
    "plt.rcParams['font.sans-serif'] = ['SimHei']\n",
    "plt.rcParams['axes.unicode_minus'] = False\n",
    "\n",
    "# 导入 Pipeline 和相关预处理工具\n",
    "from sklearn.pipeline import Pipeline # 用于创建机器学习工作流\n",
    "from sklearn.compose import ColumnTransformer # 用于将不同的预处理应用于不同的列\n",
    "from sklearn.preprocessing import OrdinalEncoder, OneHotEncoder, StandardScaler # 用于数据预处理（有序编码、独热编码、标准化）\n",
    "from sklearn.impute import SimpleImputer # 用于处理缺失值\n",
    "\n",
    "# 导入机器学习模型和评估工具\n",
    "from sklearn.ensemble import RandomForestClassifier # 随机森林分类器\n",
    "from sklearn.metrics import classification_report, confusion_matrix # 用于评估分类器性能\n",
    "from sklearn.model_selection import train_test_split # 用于划分训练集和测试集\n",
    "\n",
    "\n",
    "# --- 加载原始数据 ---\n",
    "# 我们加载原始数据，不对其进行任何手动预处理\n",
    "data = pd.read_csv('data.csv')\n",
    "\n",
    "print(\"原始数据加载完成，形状为:\", data.shape)\n",
    "# print(data.head()) # 可以打印前几行看看原始数据"
   ]
  },
  {
   "cell_type": "code",
   "execution_count": 4,
   "id": "cdea4905",
   "metadata": {},
   "outputs": [
    {
     "name": "stdout",
     "output_type": "stream",
     "text": [
      "\n",
      "特征和标签分离完成。\n",
      "特征 X 的形状: (7500, 17)\n",
      "标签 y 的形状: (7500,)\n",
      "\n",
      "数据集划分完成 (预处理之前)。\n",
      "X_train 形状: (6000, 17)\n",
      "X_test 形状: (1500, 17)\n",
      "y_train 形状: (6000,)\n",
      "y_test 形状: (1500,)\n"
     ]
    }
   ],
   "source": [
    "# --- 分离特征和标签 (使用原始数据) ---\n",
    "y = data['Credit Default'] # 标签\n",
    "X = data.drop(['Credit Default'], axis=1) # 特征 (axis=1 表示按列删除)\n",
    "\n",
    "print(\"\\n特征和标签分离完成。\")\n",
    "print(\"特征 X 的形状:\", X.shape)\n",
    "print(\"标签 y 的形状:\", y.shape)\n",
    "\n",
    "# --- 划分训练集和测试集 (在任何预处理之前划分) ---\n",
    "# 按照8:2划分训练集和测试集\n",
    "X_train, X_test, y_train, y_test = train_test_split(X, y, test_size=0.2, random_state=42) # 80%训练集，20%测试集\n",
    "\n",
    "print(\"\\n数据集划分完成 (预处理之前)。\")\n",
    "print(\"X_train 形状:\", X_train.shape)\n",
    "print(\"X_test 形状:\", X_test.shape)\n",
    "print(\"y_train 形状:\", y_train.shape)\n",
    "print(\"y_test 形状:\", y_test.shape)"
   ]
  },
  {
   "cell_type": "code",
   "execution_count": 6,
   "id": "8b7ae347",
   "metadata": {},
   "outputs": [
    {
     "name": "stdout",
     "output_type": "stream",
     "text": [
      "有序特征处理 Pipeline 定义完成。\n",
      "标称特征处理 Pipeline 定义完成。\n",
      "连续特征处理 Pipeline 定义完成。\n"
     ]
    }
   ],
   "source": [
    "# --- 定义不同列的类型和它们对应的预处理步骤 ---\n",
    "# 这些定义是基于原始数据 X 的列类型来确定的\n",
    "\n",
    "# 识别原始的 object 列 (对应你原代码中的 discrete_features 在预处理前)\n",
    "object_cols = X.select_dtypes(include=['object']).columns.tolist()\n",
    "# 识别原始的非 object 列 (通常是数值列)\n",
    "numeric_cols = X.select_dtypes(exclude=['object']).columns.tolist()\n",
    "\n",
    "\n",
    "# 有序分类特征 (对应你之前的标签编码)\n",
    "# 注意：OrdinalEncoder默认编码为0, 1, 2... 对应你之前的1, 2, 3...需要在模型解释时注意\n",
    "# 这里的类别顺序需要和你之前映射的顺序一致\n",
    "ordinal_features = ['Home Ownership', 'Years in current job', 'Term']\n",
    "# 定义每个有序特征的类别顺序，这个顺序决定了编码后的数值大小\n",
    "ordinal_categories = [\n",
    "    ['Own Home', 'Rent', 'Have Mortgage', 'Home Mortgage'], # Home Ownership 的顺序 (对应1, 2, 3, 4)\n",
    "    ['< 1 year', '1 year', '2 years', '3 years', '4 years', '5 years', '6 years', '7 years', '8 years', '9 years', '10+ years'], # Years in current job 的顺序 (对应1-11)\n",
    "    ['Short Term', 'Long Term'] # Term 的顺序 (对应0, 1)\n",
    "]\n",
    "# 构建处理有序特征的 Pipeline: 先填充缺失值，再进行有序编码\n",
    "ordinal_transformer = Pipeline(steps=[\n",
    "    ('imputer', SimpleImputer(strategy='most_frequent')), # 用众数填充分类特征的缺失值\n",
    "    ('encoder', OrdinalEncoder(categories=ordinal_categories, handle_unknown='use_encoded_value', unknown_value=-1)) # 进行有序编码\n",
    "])\n",
    "print(\"有序特征处理 Pipeline 定义完成。\")\n",
    "\n",
    "\n",
    "# 标称分类特征 (对应你之前的独热编码)\n",
    "nominal_features = ['Purpose'] # 使用原始列名\n",
    "# 构建处理标称特征的 Pipeline: 先填充缺失值，再进行独热编码\n",
    "nominal_transformer = Pipeline(steps=[\n",
    "    ('imputer', SimpleImputer(strategy='most_frequent')), # 用众数填充分类特征的缺失值\n",
    "    ('onehot', OneHotEncoder(handle_unknown='ignore', sparse_output=False)) # 进行独热编码, sparse_output=False 使输出为密集数组\n",
    "])\n",
    "print(\"标称特征处理 Pipeline 定义完成。\")\n",
    "\n",
    "\n",
    "# 连续特征 (对应你之前的众数填充 + 添加标准化)\n",
    "# 从所有列中排除掉分类特征，得到连续特征列表\n",
    "# continuous_features = X.columns.difference(object_cols).tolist() # 原始X中非object类型的列\n",
    "# 也可以直接从所有列中排除已知的有序和标称特征\n",
    "continuous_features = [f for f in X.columns if f not in ordinal_features + nominal_features]\n",
    "\n",
    "# 构建处理连续特征的 Pipeline: 先填充缺失值，再进行标准化\n",
    "continuous_transformer = Pipeline(steps=[\n",
    "    ('imputer', SimpleImputer(strategy='most_frequent')), # 用众数填充缺失值 (复现你的原始逻辑)\n",
    "    ('scaler', StandardScaler()) # 标准化，一个好的实践 (如果你严格复刻原代码，可以移除这步)\n",
    "])\n",
    "print(\"连续特征处理 Pipeline 定义完成。\")"
   ]
  },
  {
   "cell_type": "code",
   "execution_count": 7,
   "id": "805f2ae6",
   "metadata": {},
   "outputs": [
    {
     "name": "stdout",
     "output_type": "stream",
     "text": [
      "\n",
      "ColumnTransformer (预处理器) 定义完成。\n"
     ]
    }
   ],
   "source": [
    "preprocessor = ColumnTransformer(\n",
    "    transformers=[\n",
    "        ('ordinal', ordinal_transformer, ordinal_features), # 对 ordinal_features 列应用 ordinal_transformer\n",
    "        ('nominal', nominal_transformer, nominal_features), # 对 nominal_features 列应用 nominal_transformer\n",
    "        ('continuous', continuous_transformer, continuous_features) # 对 continuous_features 列应用 continuous_transformer\n",
    "    ],\n",
    "    remainder='passthrough' # 如何处理没有在上面列表中指定的列。\n",
    "                           # 'passthrough' 表示保留这些列，不做任何处理。\n",
    "                           # 'drop' 表示丢弃这些列。\n",
    ")\n",
    "\n",
    "print(\"\\nColumnTransformer (预处理器) 定义完成。\")"
   ]
  },
  {
   "cell_type": "code",
   "execution_count": 8,
   "id": "ca40d138",
   "metadata": {},
   "outputs": [
    {
     "name": "stdout",
     "output_type": "stream",
     "text": [
      "\n",
      "完整的 Pipeline 定义完成。\n"
     ]
    }
   ],
   "source": [
    "pipeline = Pipeline(steps=[\n",
    "    ('preprocessor', preprocessor), # 第一步：应用所有的预处理 (我们刚刚定义的 ColumnTransformer 对象)\n",
    "    ('classifier', RandomForestClassifier(random_state=42)) # 第二步：随机森林分类器 (使用默认参数和指定的 random_state)\n",
    "])\n",
    "\n",
    "print(\"\\n完整的 Pipeline 定义完成。\")"
   ]
  },
  {
   "cell_type": "code",
   "execution_count": null,
   "id": "7894c963",
   "metadata": {},
   "outputs": [
    {
     "name": "stdout",
     "output_type": "stream",
     "text": [
      "\n",
      "--- 1. 默认参数随机森林 (训练集 -> 测试集) ---\n",
      "训练与预测耗时: 0.8811 秒\n",
      "\n",
      "默认随机森林 在测试集上的分类报告：\n",
      "              precision    recall  f1-score   support\n",
      "\n",
      "           0       0.77      0.97      0.86      1059\n",
      "           1       0.83      0.30      0.44       441\n",
      "\n",
      "    accuracy                           0.78      1500\n",
      "   macro avg       0.80      0.64      0.65      1500\n",
      "weighted avg       0.79      0.78      0.74      1500\n",
      "\n",
      "默认随机森林 在测试集上的混淆矩阵：\n",
      "[[1031   28]\n",
      " [ 308  133]]\n"
     ]
    }
   ],
   "source": [
    "print(\"\\n--- 1. 默认参数随机森林 (训练集 -> 测试集) ---\") # 使用你原代码的输出文本\n",
    "# import time # 引入 time 库 (已在文件顶部引入)\n",
    "\n",
    "start_time = time.time() # 记录开始时间\n",
    "\n",
    "pipeline.fit(X_train, y_train)\n",
    "print(\"默认参数随机森林 训练完成\")\n",
    "pipeline_pred = pipeline.predict(X_test)\n",
    "\n",
    "end_time = time.time() # 记录结束时间\n",
    "\n",
    "print(f\"训练与预测耗时: {end_time - start_time:.4f} 秒\") # 使用你原代码的输出格式\n",
    "\n",
    "print(\"\\n默认随机森林 在测试集上的分类报告：\") # 使用你原代码的输出文本\n",
    "print(classification_report(y_test, pipeline_pred))\n",
    "print(\"默认随机森林 在测试集上的混淆矩阵：\") # 使用你原代码的输出文本\n",
    "print(confusion_matrix(y_test, pipeline_pred))"
   ]
  }
 ],
 "metadata": {
  "kernelspec": {
   "display_name": "vs",
   "language": "python",
   "name": "python3"
  },
  "language_info": {
   "codemirror_mode": {
    "name": "ipython",
    "version": 3
   },
   "file_extension": ".py",
   "mimetype": "text/x-python",
   "name": "python",
   "nbconvert_exporter": "python",
   "pygments_lexer": "ipython3",
   "version": "3.9.19"
  }
 },
 "nbformat": 4,
 "nbformat_minor": 5
}
