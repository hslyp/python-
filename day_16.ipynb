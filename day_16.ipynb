{
 "cells": [
  {
   "cell_type": "code",
   "execution_count": 11,
   "id": "41b4f186",
   "metadata": {},
   "outputs": [
    {
     "name": "stdout",
     "output_type": "stream",
     "text": [
      "[ 2  4  6  8 10 12]\n",
      "[[ 2  4  5]\n",
      " [ 8 10 12]]\n"
     ]
    }
   ],
   "source": [
    "import numpy as np\n",
    "a = np.array([2,4,6,8,10,12])#创建一个一维数组\n",
    "b = np.array([[2,4,5],[8,10,12]])#创建一个二维数组\n",
    "print(a)\n",
    "print(b)"
   ]
  },
  {
   "cell_type": "code",
   "execution_count": 12,
   "id": "431d6a7e",
   "metadata": {},
   "outputs": [
    {
     "name": "stdout",
     "output_type": "stream",
     "text": [
      "[8, 5, 3, 9]\n",
      "[7 5 3 9]\n"
     ]
    }
   ],
   "source": [
    "print([8,5,3,9])\n",
    "print(np.array([7,5,3,9]))"
   ]
  },
  {
   "cell_type": "code",
   "execution_count": 13,
   "id": "3cb2de27",
   "metadata": {},
   "outputs": [
    {
     "data": {
      "text/plain": [
       "(6,)"
      ]
     },
     "execution_count": 13,
     "metadata": {},
     "output_type": "execute_result"
    }
   ],
   "source": [
    "a.shape"
   ]
  },
  {
   "cell_type": "code",
   "execution_count": 14,
   "id": "688178e6",
   "metadata": {},
   "outputs": [
    {
     "data": {
      "text/plain": [
       "array([[0., 0., 0.],\n",
       "       [0., 0., 0.]])"
      ]
     },
     "execution_count": 14,
     "metadata": {},
     "output_type": "execute_result"
    }
   ],
   "source": [
    "zeros = np.zeros((2,3))\n",
    "zeros"
   ]
  },
  {
   "cell_type": "code",
   "execution_count": 15,
   "id": "c0b8598f",
   "metadata": {},
   "outputs": [
    {
     "data": {
      "text/plain": [
       "array([1., 1., 1.])"
      ]
     },
     "execution_count": 15,
     "metadata": {},
     "output_type": "execute_result"
    }
   ],
   "source": [
    "ones = np.ones((3,))\n",
    "ones"
   ]
  },
  {
   "cell_type": "code",
   "execution_count": 16,
   "id": "75d1f977",
   "metadata": {},
   "outputs": [
    {
     "data": {
      "text/plain": [
       "array([1, 2, 3, 4, 5, 6, 7, 8, 9])"
      ]
     },
     "execution_count": 16,
     "metadata": {},
     "output_type": "execute_result"
    }
   ],
   "source": [
    "arange = np.arange(1,10)\n",
    "arange"
   ]
  },
  {
   "cell_type": "code",
   "execution_count": 17,
   "id": "92495ca3",
   "metadata": {},
   "outputs": [
    {
     "data": {
      "text/plain": [
       "array([[0.18182497, 0.18340451],\n",
       "       [0.30424224, 0.52475643]])"
      ]
     },
     "execution_count": 17,
     "metadata": {},
     "output_type": "execute_result"
    }
   ],
   "source": [
    "c = np.random.rand(2, 2)  \n",
    "c"
   ]
  },
  {
   "cell_type": "code",
   "execution_count": 18,
   "id": "0b88ca13",
   "metadata": {},
   "outputs": [
    {
     "name": "stdout",
     "output_type": "stream",
     "text": [
      "所有成绩：[80.  73.6 81.5 90.2 72.7 72.7 90.8 82.7 70.3 80.4]\n",
      "最高分数：90.8，第6个学生\n",
      "最低分数：90.8，第8个学生\n"
     ]
    }
   ],
   "source": [
    "import numpy as np\n",
    "np.random.seed(42)\n",
    "\n",
    "\n",
    "chinese_scores = np.random.normal(75,10,10).round(1)\n",
    "\n",
    "\n",
    "max_score = np.max(chinese_scores)\n",
    "max_index = np.argmax(chinese_scores)\n",
    "min_score = np.max(chinese_scores)\n",
    "min_index = np.argmin(chinese_scores)\n",
    "\n",
    "print(f\"所有成绩：{chinese_scores}\")\n",
    "print(f\"最高分数：{max_score}，第{max_index}个学生\")\n",
    "print(f\"最低分数：{min_score}，第{min_index}个学生\")"
   ]
  },
  {
   "cell_type": "code",
   "execution_count": 19,
   "id": "a59666c6",
   "metadata": {},
   "outputs": [
    {
     "name": "stdout",
     "output_type": "stream",
     "text": [
      "100\n"
     ]
    }
   ],
   "source": [
    "import numpy as np\n",
    "scores = np.array([5, 9, 9, 11, 11, 13, 15, 19])\n",
    "scores += 1 # 学习一下这个写法，等价于 scores = scores + 1\n",
    "sum = 0\n",
    "for i in scores: # 遍历数组中的每个元素\n",
    "    sum += i   \n",
    "print(sum)"
   ]
  },
  {
   "cell_type": "code",
   "execution_count": 20,
   "id": "a24f3589",
   "metadata": {},
   "outputs": [
    {
     "name": "stdout",
     "output_type": "stream",
     "text": [
      "[[1 2]\n",
      " [3 4]\n",
      " [5 6]]\n",
      "[[ 7  8]\n",
      " [ 9 10]\n",
      " [11 12]]\n"
     ]
    }
   ],
   "source": [
    "import numpy as np\n",
    "a = np.array([[1, 2], [3, 4], [5, 6]])\n",
    "b = np.array([[7, 8], [9, 10], [11, 12]])\n",
    "print(a)\n",
    "print(b)"
   ]
  },
  {
   "cell_type": "code",
   "execution_count": 21,
   "id": "7b743ada",
   "metadata": {},
   "outputs": [
    {
     "data": {
      "text/plain": [
       "array([[ 23,  29,  35],\n",
       "       [ 53,  67,  81],\n",
       "       [ 83, 105, 127]])"
      ]
     },
     "execution_count": 21,
     "metadata": {},
     "output_type": "execute_result"
    }
   ],
   "source": [
    "a @ b.T # 矩阵乘法,3*2的矩阵和2*3的矩阵相乘，得到3*3的矩阵"
   ]
  },
  {
   "cell_type": "code",
   "execution_count": 31,
   "id": "f42a94ef",
   "metadata": {},
   "outputs": [
    {
     "data": {
      "text/plain": [
       "0"
      ]
     },
     "execution_count": 31,
     "metadata": {},
     "output_type": "execute_result"
    }
   ],
   "source": [
    "arr1d  = np.arange(10)\n",
    "arr1d\n",
    "\n",
    "arr1d[0]\n",
    "\n"
   ]
  },
  {
   "cell_type": "code",
   "execution_count": null,
   "id": "0d2c157a",
   "metadata": {},
   "outputs": [
    {
     "data": {
      "text/plain": [
       "9"
      ]
     },
     "execution_count": 25,
     "metadata": {},
     "output_type": "execute_result"
    }
   ],
   "source": [
    "\n",
    "arr1d[-1]\n",
    "\n"
   ]
  },
  {
   "cell_type": "code",
   "execution_count": 32,
   "id": "1050bb15",
   "metadata": {},
   "outputs": [
    {
     "data": {
      "text/plain": [
       "array([3, 5, 8])"
      ]
     },
     "execution_count": 32,
     "metadata": {},
     "output_type": "execute_result"
    }
   ],
   "source": [
    "arr1d[[3 ,5, 8]]\n"
   ]
  },
  {
   "cell_type": "code",
   "execution_count": null,
   "id": "728cac4d",
   "metadata": {},
   "outputs": [
    {
     "data": {
      "text/plain": [
       "array([2, 3, 4, 5])"
      ]
     },
     "execution_count": 27,
     "metadata": {},
     "output_type": "execute_result"
    }
   ],
   "source": [
    "\n",
    "arr1d[2:6]"
   ]
  },
  {
   "cell_type": "code",
   "execution_count": null,
   "id": "61d9b986",
   "metadata": {},
   "outputs": [
    {
     "data": {
      "text/plain": [
       "array([5, 6, 7, 8, 9])"
      ]
     },
     "execution_count": 28,
     "metadata": {},
     "output_type": "execute_result"
    }
   ],
   "source": [
    "arr1d[5:]"
   ]
  },
  {
   "cell_type": "code",
   "execution_count": null,
   "id": "e08958a9",
   "metadata": {},
   "outputs": [
    {
     "data": {
      "text/plain": [
       "array([0, 1, 2, 3])"
      ]
     },
     "execution_count": 29,
     "metadata": {},
     "output_type": "execute_result"
    }
   ],
   "source": [
    "arr1d[:4]"
   ]
  },
  {
   "cell_type": "code",
   "execution_count": null,
   "id": "b168d5a0",
   "metadata": {},
   "outputs": [
    {
     "data": {
      "text/plain": [
       "array([0, 1, 2, 3, 4, 5, 6, 7, 8, 9])"
      ]
     },
     "execution_count": 30,
     "metadata": {},
     "output_type": "execute_result"
    }
   ],
   "source": [
    "arr1d[:]"
   ]
  },
  {
   "cell_type": "code",
   "execution_count": 33,
   "id": "33694707",
   "metadata": {},
   "outputs": [
    {
     "data": {
      "text/plain": [
       "array([[ 1,  2,  3,  4],\n",
       "       [ 5,  6,  7,  8],\n",
       "       [ 9, 10, 11, 12],\n",
       "       [13, 14, 15, 16]])"
      ]
     },
     "execution_count": 33,
     "metadata": {},
     "output_type": "execute_result"
    }
   ],
   "source": [
    "arr2d = np.array([[1,2,3,4],\n",
    "                  [5,6,7,8],\n",
    "                  [9,10,11,12],\n",
    "                  [13,14,15,16]])\n",
    "arr2d"
   ]
  },
  {
   "cell_type": "code",
   "execution_count": 34,
   "id": "f0088517",
   "metadata": {},
   "outputs": [
    {
     "data": {
      "text/plain": [
       "array([5, 6, 7, 8])"
      ]
     },
     "execution_count": 34,
     "metadata": {},
     "output_type": "execute_result"
    }
   ],
   "source": [
    "arr2d[1,:]"
   ]
  },
  {
   "cell_type": "code",
   "execution_count": 35,
   "id": "fb87e2d3",
   "metadata": {},
   "outputs": [
    {
     "data": {
      "text/plain": [
       "array([5, 6, 7, 8])"
      ]
     },
     "execution_count": 35,
     "metadata": {},
     "output_type": "execute_result"
    }
   ],
   "source": [
    "arr2d[1]"
   ]
  },
  {
   "cell_type": "code",
   "execution_count": 36,
   "id": "40acda60",
   "metadata": {},
   "outputs": [
    {
     "data": {
      "text/plain": [
       "array([ 3,  7, 11, 15])"
      ]
     },
     "execution_count": 36,
     "metadata": {},
     "output_type": "execute_result"
    }
   ],
   "source": [
    "arr2d[:,2]"
   ]
  },
  {
   "cell_type": "code",
   "execution_count": 37,
   "id": "bc6ebaaa",
   "metadata": {},
   "outputs": [
    {
     "data": {
      "text/plain": [
       "array([[ 2,  4],\n",
       "       [ 6,  8],\n",
       "       [10, 12],\n",
       "       [14, 16]])"
      ]
     },
     "execution_count": 37,
     "metadata": {},
     "output_type": "execute_result"
    }
   ],
   "source": [
    "arr2d[:,[1,3]]"
   ]
  },
  {
   "cell_type": "code",
   "execution_count": 38,
   "id": "903e5cdd",
   "metadata": {},
   "outputs": [
    {
     "data": {
      "text/plain": [
       "12"
      ]
     },
     "execution_count": 38,
     "metadata": {},
     "output_type": "execute_result"
    }
   ],
   "source": [
    "arr2d[2,3]"
   ]
  },
  {
   "cell_type": "code",
   "execution_count": 39,
   "id": "ec054b9c",
   "metadata": {},
   "outputs": [
    {
     "data": {
      "text/plain": [
       "array([[ 1,  2,  3,  4],\n",
       "       [ 9, 10, 11, 12]])"
      ]
     },
     "execution_count": 39,
     "metadata": {},
     "output_type": "execute_result"
    }
   ],
   "source": [
    "arr2d[[0,2],:]"
   ]
  },
  {
   "cell_type": "code",
   "execution_count": 44,
   "id": "eccdec74",
   "metadata": {},
   "outputs": [
    {
     "data": {
      "text/plain": [
       "array([[6, 7]])"
      ]
     },
     "execution_count": 44,
     "metadata": {},
     "output_type": "execute_result"
    }
   ],
   "source": [
    "arr2d[1:2,1:3]"
   ]
  },
  {
   "cell_type": "code",
   "execution_count": 49,
   "id": "a2366191",
   "metadata": {},
   "outputs": [
    {
     "data": {
      "text/plain": [
       "array([[[ 0,  1,  2,  3,  4],\n",
       "        [ 5,  6,  7,  8,  9],\n",
       "        [10, 11, 12, 13, 14],\n",
       "        [15, 16, 17, 18, 19]],\n",
       "\n",
       "       [[20, 21, 22, 23, 24],\n",
       "        [25, 26, 27, 28, 29],\n",
       "        [30, 31, 32, 33, 34],\n",
       "        [35, 36, 37, 38, 39]],\n",
       "\n",
       "       [[40, 41, 42, 43, 44],\n",
       "        [45, 46, 47, 48, 49],\n",
       "        [50, 51, 52, 53, 54],\n",
       "        [55, 56, 57, 58, 59]]])"
      ]
     },
     "execution_count": 49,
     "metadata": {},
     "output_type": "execute_result"
    }
   ],
   "source": [
    "arr3d = np.arange(3 * 4 *5).reshape((3,4,5))\n",
    "arr3d"
   ]
  },
  {
   "cell_type": "code",
   "execution_count": 53,
   "id": "91f28a02",
   "metadata": {},
   "outputs": [
    {
     "data": {
      "text/plain": [
       "array([[20, 21, 22, 23, 24],\n",
       "       [25, 26, 27, 28, 29],\n",
       "       [30, 31, 32, 33, 34],\n",
       "       [35, 36, 37, 38, 39]])"
      ]
     },
     "execution_count": 53,
     "metadata": {},
     "output_type": "execute_result"
    }
   ],
   "source": [
    "arr3d[1,:,:]"
   ]
  },
  {
   "cell_type": "code",
   "execution_count": 57,
   "id": "2ad2419e",
   "metadata": {},
   "outputs": [
    {
     "data": {
      "text/plain": [
       "array([[22, 23, 24],\n",
       "       [27, 28, 29]])"
      ]
     },
     "execution_count": 57,
     "metadata": {},
     "output_type": "execute_result"
    }
   ],
   "source": [
    "arr3d[1,0:2,2:5]"
   ]
  },
  {
   "cell_type": "code",
   "execution_count": 59,
   "id": "19923973",
   "metadata": {},
   "outputs": [
    {
     "name": "stdout",
     "output_type": "stream",
     "text": [
      "--- 1. 默认参数随机森林 (训练集 -> 测试集) ---\n",
      "训练与预测耗时: 0.9002 秒\n",
      "\n",
      "默认随机森林 在测试集上的分类报告：\n",
      "              precision    recall  f1-score   support\n",
      "\n",
      "           0       0.77      0.97      0.86      1059\n",
      "           1       0.79      0.30      0.43       441\n",
      "\n",
      "    accuracy                           0.77      1500\n",
      "   macro avg       0.78      0.63      0.64      1500\n",
      "weighted avg       0.77      0.77      0.73      1500\n",
      "\n",
      "默认随机森林 在测试集上的混淆矩阵：\n",
      "[[1023   36]\n",
      " [ 309  132]]\n"
     ]
    }
   ],
   "source": [
    "# 先运行之前预处理好的代码\n",
    "import pandas as pd\n",
    "import pandas as pd    #用于数据处理和分析，可处理表格数据。\n",
    "import numpy as np     #用于数值计算，提供了高效的数组操作。\n",
    "import matplotlib.pyplot as plt    #用于绘制各种类型的图表\n",
    "import seaborn as sns   #基于matplotlib的高级绘图库，能绘制更美观的统计图形。\n",
    "import warnings\n",
    "warnings.filterwarnings(\"ignore\")\n",
    " # 设置中文字体（解决中文显示问题）\n",
    "plt.rcParams['font.sans-serif'] = ['SimHei']  # Windows系统常用黑体字体\n",
    "plt.rcParams['axes.unicode_minus'] = False    # 正常显示负号\n",
    "data = pd.read_csv('data.csv')    #读取数据\n",
    "\n",
    "# 先筛选字符串变量 \n",
    "discrete_features = data.select_dtypes(include=['object']).columns.tolist()\n",
    "# Home Ownership 标签编码\n",
    "home_ownership_mapping = {\n",
    "    'Own Home': 1,\n",
    "    'Rent': 2,\n",
    "    'Have Mortgage': 3,\n",
    "    'Home Mortgage': 4\n",
    "}\n",
    "data['Home Ownership'] = data['Home Ownership'].map(home_ownership_mapping)\n",
    "\n",
    "# Years in current job 标签编码\n",
    "years_in_job_mapping = {\n",
    "    '< 1 year': 1,\n",
    "    '1 year': 2,\n",
    "    '2 years': 3,\n",
    "    '3 years': 4,\n",
    "    '4 years': 5,\n",
    "    '5 years': 6,\n",
    "    '6 years': 7,\n",
    "    '7 years': 8,\n",
    "    '8 years': 9,\n",
    "    '9 years': 10,\n",
    "    '10+ years': 11\n",
    "}\n",
    "data['Years in current job'] = data['Years in current job'].map(years_in_job_mapping)\n",
    "\n",
    "# Purpose 独热编码，记得需要将bool类型转换为数值\n",
    "data = pd.get_dummies(data, columns=['Purpose'])\n",
    "data2 = pd.read_csv(\"data.csv\") # 重新读取数据，用来做列名对比\n",
    "list_final = [] # 新建一个空列表，用于存放独热编码后新增的特征名\n",
    "for i in data.columns:\n",
    "    if i not in data2.columns:\n",
    "       list_final.append(i) # 这里打印出来的就是独热编码后的特征名\n",
    "for i in list_final:\n",
    "    data[i] = data[i].astype(int) # 这里的i就是独热编码后的特征名\n",
    "\n",
    "\n",
    "    # Term 0 - 1 映射\n",
    "term_mapping = {\n",
    "    'Short Term': 0,\n",
    "    'Long Term': 1\n",
    "}\n",
    "\n",
    "data['Term'] = data['Term'].map(term_mapping)\n",
    "\n",
    "data.rename(columns={'Term': 'Long Term'}, inplace=True) # 重命名列\n",
    "continuous_features = data.select_dtypes(include=['int64', 'float64']).columns.tolist()  #把筛选出来的列名转换成列表\n",
    " \n",
    " # 连续特征用中位数补全\n",
    "for feature in continuous_features:     \n",
    "    mode_value = data[feature].mode()[0]            #获取该列的众数。\n",
    "    data[feature].fillna(mode_value, inplace=True)          #用众数填充该列的缺失值，inplace=True表示直接在原数据上修改。\n",
    "\n",
    "# 最开始也说了 很多调参函数自带交叉验证，甚至是必选的参数，你如果想要不交叉反而实现起来会麻烦很多\n",
    "# 所以这里我们还是只划分一次数据集\n",
    "from sklearn.model_selection import train_test_split\n",
    "X = data.drop(['Credit Default'], axis=1)  # 特征，axis=1表示按列删除\n",
    "y = data['Credit Default'] # 标签\n",
    "# 按照8:2划分训练集和测试集\n",
    "X_train, X_test, y_train, y_test = train_test_split(X, y, test_size=0.2, random_state=42)  # 80%训练集，20%测试集\n",
    "\n",
    "from sklearn.ensemble import RandomForestClassifier #随机森林分类器\n",
    "\n",
    "from sklearn.metrics import accuracy_score, precision_score, recall_score, f1_score # 用于评估分类器性能的指标\n",
    "from sklearn.metrics import classification_report, confusion_matrix #用于生成分类报告和混淆矩阵\n",
    "import warnings #用于忽略警告信息\n",
    "warnings.filterwarnings(\"ignore\") # 忽略所有警告信息\n",
    "# --- 1. 默认参数的随机森林 ---\n",
    "# 评估基准模型，这里确实不需要验证集\n",
    "print(\"--- 1. 默认参数随机森林 (训练集 -> 测试集) ---\")\n",
    "import time # 这里介绍一个新的库，time库，主要用于时间相关的操作，因为调参需要很长时间，记录下会帮助后人知道大概的时长\n",
    "start_time = time.time() # 记录开始时间\n",
    "rf_model = RandomForestClassifier(random_state=42)\n",
    "rf_model.fit(X_train, y_train) # 在训练集上训练\n",
    "rf_pred = rf_model.predict(X_test) # 在测试集上预测\n",
    "end_time = time.time() # 记录结束时间\n",
    "\n",
    "print(f\"训练与预测耗时: {end_time - start_time:.4f} 秒\")\n",
    "print(\"\\n默认随机森林 在测试集上的分类报告：\")\n",
    "print(classification_report(y_test, rf_pred))\n",
    "print(\"默认随机森林 在测试集上的混淆矩阵：\")\n",
    "print(confusion_matrix(y_test, rf_pred))"
   ]
  },
  {
   "cell_type": "code",
   "execution_count": 60,
   "id": "31038fbe",
   "metadata": {},
   "outputs": [],
   "source": [
    "import shap\n",
    "import matplotlib.pyplot as plt\n",
    "\n",
    "# 初始化 SHAP 解释器\n",
    "explainer = shap.TreeExplainer(rf_model)\n",
    "\n",
    "# 计算 SHAP 值（基于测试集），这个shap_values是一个numpy数组，表示每个特征对每个样本的贡献值\n",
    "# 这里大家先知道这是个numpy数组即可，我们后面学习完numpy在来回头解读这个值\n",
    "shap_values = explainer.shap_values(X_test) # 这个计算耗时"
   ]
  },
  {
   "cell_type": "code",
   "execution_count": 61,
   "id": "d7dc6cfb",
   "metadata": {},
   "outputs": [
    {
     "data": {
      "text/plain": [
       "array([[[ 9.07465700e-03, -9.07465700e-03],\n",
       "        [ 7.21456498e-03, -7.21456498e-03],\n",
       "        [ 4.55189444e-02, -4.55189444e-02],\n",
       "        ...,\n",
       "        [ 7.12857198e-05, -7.12857198e-05],\n",
       "        [ 4.67733508e-05, -4.67733508e-05],\n",
       "        [ 1.61298135e-04, -1.61298135e-04]],\n",
       "\n",
       "       [[-1.02606871e-02,  1.02606871e-02],\n",
       "        [ 1.85572634e-02, -1.85572634e-02],\n",
       "        [-1.64992848e-02,  1.64992848e-02],\n",
       "        ...,\n",
       "        [ 2.00070852e-04, -2.00070852e-04],\n",
       "        [ 5.11798841e-05, -5.11798841e-05],\n",
       "        [ 1.02827796e-04, -1.02827796e-04]],\n",
       "\n",
       "       [[ 3.21529115e-03, -3.21529115e-03],\n",
       "        [ 1.28184070e-02, -1.28184070e-02],\n",
       "        [ 1.02124914e-01, -1.02124914e-01],\n",
       "        ...,\n",
       "        [ 1.73012306e-04, -1.73012306e-04],\n",
       "        [ 4.74133256e-05, -4.74133256e-05],\n",
       "        [ 1.26753231e-04, -1.26753231e-04]],\n",
       "\n",
       "       ...,\n",
       "\n",
       "       [[ 1.15222741e-03, -1.15222741e-03],\n",
       "        [-1.71843266e-02,  1.71843266e-02],\n",
       "        [-3.04994337e-02,  3.04994337e-02],\n",
       "        ...,\n",
       "        [ 1.44859329e-04, -1.44859329e-04],\n",
       "        [ 1.80111014e-05, -1.80111014e-05],\n",
       "        [ 1.30107512e-04, -1.30107512e-04]],\n",
       "\n",
       "       [[ 1.29249120e-03, -1.29249120e-03],\n",
       "        [ 5.66948438e-03, -5.66948438e-03],\n",
       "        [ 2.49050264e-02, -2.49050264e-02],\n",
       "        ...,\n",
       "        [ 2.50590715e-06, -2.50590715e-06],\n",
       "        [ 4.68839113e-05, -4.68839113e-05],\n",
       "        [ 1.15002997e-05, -1.15002997e-05]],\n",
       "\n",
       "       [[-1.12640555e-03,  1.12640555e-03],\n",
       "        [ 1.42648293e-02, -1.42648293e-02],\n",
       "        [ 4.74790019e-02, -4.74790019e-02],\n",
       "        ...,\n",
       "        [ 6.19451775e-05, -6.19451775e-05],\n",
       "        [ 3.30996384e-05, -3.30996384e-05],\n",
       "        [ 4.45219920e-05, -4.45219920e-05]]])"
      ]
     },
     "execution_count": 61,
     "metadata": {},
     "output_type": "execute_result"
    }
   ],
   "source": [
    "shap_values"
   ]
  },
  {
   "cell_type": "code",
   "execution_count": 62,
   "id": "bde5cae5",
   "metadata": {},
   "outputs": [
    {
     "data": {
      "text/plain": [
       "array([[-1.02606871e-02,  1.02606871e-02],\n",
       "       [ 1.85572634e-02, -1.85572634e-02],\n",
       "       [-1.64992848e-02,  1.64992848e-02],\n",
       "       [ 5.06820187e-03, -5.06820187e-03],\n",
       "       [ 8.03993942e-04, -8.03993942e-04],\n",
       "       [ 6.23093534e-03, -6.23093534e-03],\n",
       "       [ 1.03509794e-02, -1.03509794e-02],\n",
       "       [ 3.30238833e-02, -3.30238833e-02],\n",
       "       [ 1.46418512e-03, -1.46418512e-03],\n",
       "       [ 6.79034083e-03, -6.79034083e-03],\n",
       "       [ 2.50718949e-03, -2.50718949e-03],\n",
       "       [ 3.48936324e-02, -3.48936324e-02],\n",
       "       [-2.37893910e-02,  2.37893910e-02],\n",
       "       [-5.81337661e-03,  5.81337661e-03],\n",
       "       [ 2.37683779e-02, -2.37683779e-02],\n",
       "       [ 3.69112306e-02, -3.69112306e-02],\n",
       "       [ 1.10309789e-03, -1.10309789e-03],\n",
       "       [ 3.26736973e-04, -3.26736973e-04],\n",
       "       [ 1.75816944e-04, -1.75816944e-04],\n",
       "       [-6.42806171e-04,  6.42806171e-04],\n",
       "       [ 8.65196736e-07, -8.65196736e-07],\n",
       "       [ 5.66108030e-04, -5.66108030e-04],\n",
       "       [ 9.91956164e-05, -9.91956164e-05],\n",
       "       [ 4.18834246e-04, -4.18834246e-04],\n",
       "       [ 7.12584973e-05, -7.12584973e-05],\n",
       "       [ 2.16810255e-03, -2.16810255e-03],\n",
       "       [ 5.72741710e-05, -5.72741710e-05],\n",
       "       [ 4.53963511e-04, -4.53963511e-04],\n",
       "       [ 2.00070852e-04, -2.00070852e-04],\n",
       "       [ 5.11798841e-05, -5.11798841e-05],\n",
       "       [ 1.02827796e-04, -1.02827796e-04]])"
      ]
     },
     "execution_count": 62,
     "metadata": {},
     "output_type": "execute_result"
    }
   ],
   "source": [
    "shap_values[1,:,:]"
   ]
  },
  {
   "cell_type": "code",
   "execution_count": 63,
   "id": "7d804938",
   "metadata": {},
   "outputs": [
    {
     "data": {
      "text/plain": [
       "(31, 2)"
      ]
     },
     "execution_count": 63,
     "metadata": {},
     "output_type": "execute_result"
    }
   ],
   "source": [
    "shap_values[0,:,:].shape"
   ]
  },
  {
   "cell_type": "code",
   "execution_count": 64,
   "id": "cc254610",
   "metadata": {},
   "outputs": [
    {
     "data": {
      "text/plain": [
       "array([[ 9.07465700e-03,  7.21456498e-03,  4.55189444e-02, ...,\n",
       "         7.12857198e-05,  4.67733508e-05,  1.61298135e-04],\n",
       "       [-1.02606871e-02,  1.85572634e-02, -1.64992848e-02, ...,\n",
       "         2.00070852e-04,  5.11798841e-05,  1.02827796e-04],\n",
       "       [ 3.21529115e-03,  1.28184070e-02,  1.02124914e-01, ...,\n",
       "         1.73012306e-04,  4.74133256e-05,  1.26753231e-04],\n",
       "       ...,\n",
       "       [ 1.15222741e-03, -1.71843266e-02, -3.04994337e-02, ...,\n",
       "         1.44859329e-04,  1.80111014e-05,  1.30107512e-04],\n",
       "       [ 1.29249120e-03,  5.66948438e-03,  2.49050264e-02, ...,\n",
       "         2.50590715e-06,  4.68839113e-05,  1.15002997e-05],\n",
       "       [-1.12640555e-03,  1.42648293e-02,  4.74790019e-02, ...,\n",
       "         6.19451775e-05,  3.30996384e-05,  4.45219920e-05]])"
      ]
     },
     "execution_count": 64,
     "metadata": {},
     "output_type": "execute_result"
    }
   ],
   "source": [
    "shap_values[:,:,0]"
   ]
  }
 ],
 "metadata": {
  "kernelspec": {
   "display_name": "vs",
   "language": "python",
   "name": "python3"
  },
  "language_info": {
   "codemirror_mode": {
    "name": "ipython",
    "version": 3
   },
   "file_extension": ".py",
   "mimetype": "text/x-python",
   "name": "python",
   "nbconvert_exporter": "python",
   "pygments_lexer": "ipython3",
   "version": "3.9.19"
  }
 },
 "nbformat": 4,
 "nbformat_minor": 5
}
