{
 "cells": [
  {
   "cell_type": "code",
   "execution_count": 1,
   "id": "be519db7",
   "metadata": {},
   "outputs": [
    {
     "name": "stdout",
     "output_type": "stream",
     "text": [
      "方式1：使用 import math\n",
      "圆周率π的值：3.141592653589793\n",
      "2的平方根：1.4142135623730951\n",
      "\n"
     ]
    }
   ],
   "source": [
    "import math\n",
    "\n",
    "print(\"方式1：使用 import math\")\n",
    "print(f\"圆周率π的值：{math.pi}\")\n",
    "print(f\"2的平方根：{math.sqrt(2)}\\n\")"
   ]
  },
  {
   "cell_type": "markdown",
   "id": "e9799361",
   "metadata": {},
   "source": [
    "### 1.2 从库中导入特定项\n",
    "\n",
    "当使用from语法从库中导入特定的函数或类时，这些函数或类就可以在您的代码中直接使用，不需要添加模块名作为前缀。因为在导入时没有包括模块的完整路径，前面也不能加上库名。"
   ]
  },
  {
   "cell_type": "code",
   "execution_count": 2,
   "id": "b6fffd45",
   "metadata": {},
   "outputs": [
    {
     "name": "stdout",
     "output_type": "stream",
     "text": [
      "方式2：使用 from math import pi, sqrt\n",
      "圆周率π的值：3.141592653589793\n",
      "2的平方根：1.4142135623730951\n",
      "\n"
     ]
    }
   ],
   "source": [
    "from math import pi, sqrt\n",
    "\n",
    "print(\"方式2：使用 from math import pi, sqrt\")\n",
    "print(f\"圆周率π的值：{pi}\")\n",
    "print(f\"2的平方根：{sqrt(2)}\\n\")"
   ]
  },
  {
   "cell_type": "markdown",
   "id": "7acb0efe",
   "metadata": {},
   "source": [
    "类似的写法，如sklearn库很大，直接导入sklearn库会占用电脑大量内存，所以一般只导入你需要的库，\n",
    "- 如： from sklearn.model_selection import train_test_split"
   ]
  },
  {
   "cell_type": "markdown",
   "id": "3aaa6130",
   "metadata": {},
   "source": [
    "虽然 import math和 from math import *看起来都是导入了 `math` 模块，但它们在导入方式、作用域处理以及对命名空间的影响上有重要的区别。\n",
    "1. 命名空间的污染\n",
    " `import math`：这种方法会将整个 `math` 模块导入到命名空间中，但是需要使用 `math.` 前缀来访问模块内的函数或变量。这种方式保持了命名空间的整洁，因为所有的 `math` 函数和变量都包含在 `math` 这个模块对象中。\n",
    " `from math import *`：这种方法将 `math` 模块中的所有公开的函数和变量导入到当前的命名空间中，可以直接使用这些函数和变量而无需 `math.` 前缀。这种方式可能会导致命名空间污染，特别是当有多个模块都被这样导入时，很容易发生命名冲突。\n",
    "\n",
    "2. 明确性和可维护性\n",
    " `import math`：明确指出了函数和变量来源于 `math` 模块，这对代码的可读性和维护性都是有益的。其他阅读你代码的人可以清楚地看到每个函数的来源，这对大型项目和团队合作尤为重要。\n",
    " `from math import *`：虽然代码看起来更简洁，但这种方法减少了代码的明确性。如果没有足够的上下文，很难判断一个特定的函数是来自 `math` 模块还是其他模块，尤其是当你导入了多个模块时。"
   ]
  },
  {
   "cell_type": "code",
   "execution_count": 3,
   "id": "2638dbe3",
   "metadata": {},
   "outputs": [
    {
     "name": "stdout",
     "output_type": "stream",
     "text": [
      "圆周率π的值：3.141592653589793\n",
      "2的平方根：1.4142135623730951\n"
     ]
    }
   ],
   "source": [
    "from math import *\n",
    "\n",
    "print(f\"圆周率π的值：{pi}\")\n",
    "print(f\"2的平方根：{sqrt(2)}\")\n"
   ]
  },
  {
   "cell_type": "code",
   "execution_count": 4,
   "id": "de3fe212",
   "metadata": {},
   "outputs": [],
   "source": [
    "import math\n",
    "\n",
    "def calculate_area(radius):\n",
    "    return math.pi * radius ** 2"
   ]
  }
 ],
 "metadata": {
  "kernelspec": {
   "display_name": "vs",
   "language": "python",
   "name": "python3"
  },
  "language_info": {
   "codemirror_mode": {
    "name": "ipython",
    "version": 3
   },
   "file_extension": ".py",
   "mimetype": "text/x-python",
   "name": "python",
   "nbconvert_exporter": "python",
   "pygments_lexer": "ipython3",
   "version": "3.9.19"
  }
 },
 "nbformat": 4,
 "nbformat_minor": 5
}
