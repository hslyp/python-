{
 "cells": [
  {
   "cell_type": "code",
   "execution_count": 1,
   "id": "ce12f06b",
   "metadata": {},
   "outputs": [],
   "source": [
    "class Classname:\n",
    "    pass"
   ]
  },
  {
   "cell_type": "code",
   "execution_count": 2,
   "id": "c6bf655a",
   "metadata": {},
   "outputs": [],
   "source": [
    "x = 10\n",
    "if x > 5:\n",
    "    pass\n",
    "else:\n",
    "    print(\"x is not greater than 5\")"
   ]
  },
  {
   "cell_type": "code",
   "execution_count": 3,
   "id": "30d3f0e9",
   "metadata": {},
   "outputs": [
    {
     "name": "stdout",
     "output_type": "stream",
     "text": [
      "hh\n"
     ]
    }
   ],
   "source": [
    "for i in range(3):\n",
    "    pass\n",
    "try:\n",
    "    # 尝试执行的代码\n",
    "    print(\"hh\")\n",
    "except SomeError:\n",
    "    pass# 捕获到异常后，这里需要代码\n",
    "finally:\n",
    "    pass"
   ]
  },
  {
   "cell_type": "code",
   "execution_count": 4,
   "id": "8eff72b7",
   "metadata": {},
   "outputs": [
    {
     "name": "stdout",
     "output_type": "stream",
     "text": [
      "Susan\n"
     ]
    }
   ],
   "source": [
    "class Teacher: \n",
    "  def __init__(self): \n",
    "    self.name = \"Susan\" \n",
    "    self.subject = \"English\"\n",
    "    self.age = 33\n",
    "\n",
    "Teacher = Teacher() \n",
    "print(Teacher.name)"
   ]
  },
  {
   "cell_type": "code",
   "execution_count": 5,
   "id": "4b0a1ac3",
   "metadata": {},
   "outputs": [
    {
     "name": "stdout",
     "output_type": "stream",
     "text": [
      "Susan\n",
      "33\n",
      "English\n"
     ]
    }
   ],
   "source": [
    "class Teacher:\n",
    "    def __init__(self, name, age):\n",
    "        self.name = name \n",
    "        self.age = age\n",
    "        self.subject = \"English\"  \n",
    "# 创建一个Teacher对象的例子，构造方法的参数必须\n",
    "teacher = Teacher(\"Susan\", 33) \n",
    "print(teacher.name)  \n",
    "print(teacher.age)   \n",
    "print(teacher.subject) "
   ]
  },
  {
   "cell_type": "markdown",
   "id": "9b881fd0",
   "metadata": {},
   "source": [
    "## 类的普通方法\n",
    "\n",
    "除了init方法（初始化方法，又名构造方法），还包含一些普通方法（自己定义）\n",
    "\n",
    "普通方法和init方法的差别在于，init方法是类的构造方法，当创建对象时，会自动调用init方法----只要你创建这个类对象了，这个init函数就会执行\n",
    "\n",
    "普通方法是只有你调用类的这个方法的时候，函数才会执行\n",
    "\n",
    "\n",
    "\n",
    "| 特性 | __init__ 方法 | 普通方法 |\n",
    "| --- | --- | --- |\n",
    "| 调用时机 | 创建实例时自动调用 | 手动通过实例调用 |\n",
    "| 是否需要显式调用 | 否 | 是 |\n",
    "| 默认名称 | 必须是 __init__ | 自定义 |\n",
    "| 主要用途 | 初始化实例属性 | 实现类的行为逻辑 |\n",
    "| 参数要求 | 第一个参数必须是 self | 第一个参数必须是 self |\n",
    "| 返回值 | 必须返回 None（隐式） | 可以返回任意类型的值 | "
   ]
  },
  {
   "cell_type": "code",
   "execution_count": 7,
   "id": "87ab73e7",
   "metadata": {},
   "outputs": [
    {
     "name": "stdout",
     "output_type": "stream",
     "text": [
      "上课中\n",
      "批评人\n",
      "Susan\n"
     ]
    }
   ],
   "source": [
    "class Teacher:\n",
    "    def __init__(self):\n",
    "        self.name = \"Susan\"\n",
    "        self.subject = \"English\"\n",
    "        self.age = 33\n",
    "    def teach_lesson(self):\n",
    "        print(\"上课中\")\n",
    "    def criticize(self):\n",
    "        print(\"批评人\") \n",
    "t = Teacher()\n",
    "t.teach_lesson() # 调用类的方法\n",
    "t.criticize()\n",
    "print(t.name)"
   ]
  },
  {
   "cell_type": "code",
   "execution_count": 9,
   "id": "c96ceae3",
   "metadata": {},
   "outputs": [
    {
     "name": "stdout",
     "output_type": "stream",
     "text": [
      "Susan正在教English。\n",
      "Susan正在批评John。\n"
     ]
    }
   ],
   "source": [
    "class Teacher:\n",
    "    def __init__(self, name, subject, age):\n",
    "        self.name = name\n",
    "        self.subject = subject\n",
    "        self.age = age\n",
    "\n",
    "    def teach_lesson(self):\n",
    "        print(f\"{self.name}正在教{self.subject}。\")\n",
    "    def criticize(self, student_name):\n",
    "        print(f\"{self.name}正在批评{student_name}。\")\n",
    "teacher = Teacher(\"Susan\", \"English\", 33)\n",
    "teacher.teach_lesson()\n",
    "teacher.criticize(\"John\")"
   ]
  },
  {
   "cell_type": "markdown",
   "id": "d5f70494",
   "metadata": {},
   "source": [
    "## 类的继承\n",
    "\n",
    "类已经是比较优秀的封装了，封装了函数、封装了属性\n",
    "\n",
    "正如装饰器进一步封装了函数的可复用的功能，装饰器函数封装了函数\n",
    "\n",
    "那么有没有东西可以进一步封装类呢？这就引出了类的继承\n",
    "\n",
    "在面向对象编程中，继承允许一个类（子类）继承另一个类（父类）的属性和方法，从而实现代码复用和功能扩展。子类可以：\n",
    "\n",
    "1. 复用父类的代码（无需重新实现）。\n",
    "\n",
    "2. 重写父类的方法（修改或增强功能）。\n",
    "\n",
    "3. 添加新的方法和属性（扩展功能）。\n",
    "\n",
    "仔细观察下方实例代码的注释，写的非常详细\n"
   ]
  },
  {
   "cell_type": "code",
   "execution_count": 10,
   "id": "cca4f441",
   "metadata": {},
   "outputs": [
    {
     "name": "stdout",
     "output_type": "stream",
     "text": [
      "王教授（特级教师）正在用高级方法教授数学。\n",
      "王教授正在批评李同学。\n",
      "王教授正在举办关于微积分的讲座。\n"
     ]
    }
   ],
   "source": [
    "class Teacher:\n",
    "    def __init__(self, name, subject, age):\n",
    "        self.name = name\n",
    "        self.subject = subject\n",
    "        self.age = age\n",
    "\n",
    "    def teach_lesson(self):\n",
    "        print(f\"{self.name}正在教{self.subject}。\")\n",
    "\n",
    "    def criticize(self, student_name):\n",
    "        print(f\"{self.name}正在批评{student_name}。\")\n",
    "\n",
    "# 继承 Teacher 类，起名特级教师\n",
    "class MasterTeacher(Teacher): # 1. 继承需要在括号中指定父类\n",
    "    def __init__(self, name, subject, age, experience_years):# 2. 继承的时候需要调用父类的构造方法，所以需要传入父类的参数，同时也可以传入自己的参数\n",
    "        # 调用父类的构造方法初始化基本属性\n",
    "        super().__init__(name, subject, age) # 3. 调用父类的构造方法，这里的super()是一个内置函数，返回父类的实例\n",
    "        # 4. 此时子类自动拥有了父类的属性和方法\n",
    "        # 添加子类特有的属性\n",
    "\n",
    "        self.experience_years = experience_years # 5. 子类特有的属性可以在这里定义\n",
    "\n",
    "    # 重写父类方法，增强功能-----如果子类定义了与父类同名的方法，子类实例会优先调用子类的方法。\n",
    "    def teach_lesson(self): # 6. 重写父类的方法\n",
    "        print(f\"{self.name}（特级教师）正在用高级方法教授{self.subject}。\")\n",
    "\n",
    "    # 新增子类特有的方法\n",
    "    def give_lecture(self, topic): \n",
    "        print(f\"{self.name}正在举办关于{topic}的讲座。\")\n",
    "\n",
    "# 创建子类实例\n",
    "master = MasterTeacher(\"王教授\", \"数学\", 45, 20)\n",
    "\n",
    "# 调用继承的方法\n",
    "master.teach_lesson()     # 调用重写的父类的方法\n",
    "master.criticize(\"李同学\")  # 调用父类的方法，如果不修改方法，则可以直接继承父类的方法\n",
    "\n",
    "# 调用子类特有的方法\n",
    "master.give_lecture(\"微积分\")"
   ]
  },
  {
   "cell_type": "code",
   "execution_count": 11,
   "id": "900c5ec8",
   "metadata": {},
   "outputs": [
    {
     "name": "stdout",
     "output_type": "stream",
     "text": [
      "旺财 发出声音\n",
      "汪汪叫\n"
     ]
    }
   ],
   "source": [
    "class Animal:\n",
    "    def __init__(self, name, age):\n",
    "        self.name = name\n",
    "        self.age = age\n",
    "\n",
    "    def speak(self):\n",
    "        print(f\"{self.name} 发出声音\")\n",
    "    \n",
    "class Dog(Animal):\n",
    "    def speak(self):\n",
    "        super().speak()  # 先调用父类的方法\n",
    "        print(\"汪汪叫\")    # 再添加子类的行为\n",
    "\n",
    "dog = Dog(\"旺财\", 3)\n",
    "dog.speak() "
   ]
  }
 ],
 "metadata": {
  "kernelspec": {
   "display_name": "vs",
   "language": "python",
   "name": "python3"
  },
  "language_info": {
   "codemirror_mode": {
    "name": "ipython",
    "version": 3
   },
   "file_extension": ".py",
   "mimetype": "text/x-python",
   "name": "python",
   "nbconvert_exporter": "python",
   "pygments_lexer": "ipython3",
   "version": "3.9.19"
  }
 },
 "nbformat": 4,
 "nbformat_minor": 5
}
