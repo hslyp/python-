{
 "cells": [
  {
   "cell_type": "markdown",
   "id": "e71c84fe",
   "metadata": {},
   "source": [
    "##### 离散特征的独热编码\n",
    "```\n",
    "先按照示例代码过一遍，然后完成下列题目\n",
    "```\n",
    "现在在py文件中 一次性处理data数据中所有的连续变量和离散变量\n",
    "\n",
    "1. 读取data数据\n",
    "2. 对离散变量进行one-hot编码\n",
    "3. 对独热编码后的变量转化为int类型\n",
    "4.对所有缺失值进行填充\n",
    "注意是py文件中，所以每一步的输出是否正确需要你来使用debugger功能来逐步查看\n"
   ]
  },
  {
   "cell_type": "code",
   "execution_count": 3,
   "id": "2cf6b2e7",
   "metadata": {},
   "outputs": [
    {
     "name": "stdout",
     "output_type": "stream",
     "text": [
      "离散变量列表： ['Home Ownership', 'Years in current job', 'Purpose', 'Term']\n",
      "\n",
      "独热编码后新增的列： ['Home Ownership_Home Mortgage', 'Home Ownership_Own Home', 'Home Ownership_Rent', 'Years in current job_10+ years', 'Years in current job_2 years', 'Years in current job_3 years', 'Years in current job_4 years', 'Years in current job_5 years', 'Years in current job_6 years', 'Years in current job_7 years', 'Years in current job_8 years', 'Years in current job_9 years', 'Years in current job_< 1 year', 'Purpose_buy a car', 'Purpose_buy house', 'Purpose_debt consolidation', 'Purpose_educational expenses', 'Purpose_home improvements', 'Purpose_major purchase', 'Purpose_medical bills', 'Purpose_moving', 'Purpose_other', 'Purpose_renewable energy', 'Purpose_small business', 'Purpose_take a trip', 'Purpose_vacation', 'Purpose_wedding', 'Term_Short Term']\n",
      "\n",
      "列 'Annual Income' 有 1557 个缺失值\n",
      "\n",
      "列 'Months since last delinquent' 有 4081 个缺失值\n",
      "\n",
      "列 'Bankruptcies' 有 14 个缺失值\n",
      "\n",
      "列 'Credit Score' 有 1557 个缺失值\n",
      "\n",
      "处理后剩余的缺失值总数：0\n",
      "\n",
      "数据处理完成！\n",
      "处理后的数据维度：(7500, 42)\n"
     ]
    }
   ],
   "source": [
    "import pandas as pd\n",
    "import numpy as np\n",
    "\n",
    "# 1. 读取数据\n",
    "data = pd.read_csv(r'C:\\Users\\haolipu\\Desktop\\daily learning\\Python学习\\Python打卡第五天\\data.csv')\n",
    "\n",
    "# 2. 找到所有离散变量\n",
    "discrete_features = []\n",
    "for column in data.columns:\n",
    "    if data[column].dtype == 'object':\n",
    "        discrete_features.append(column)\n",
    "\n",
    "print(\"离散变量列表：\", discrete_features)\n",
    "\n",
    "# 3. 对离散变量进行独热编码\n",
    "data = pd.get_dummies(data, columns=discrete_features, drop_first=True)\n",
    "\n",
    "# 4. 找出独热编码后新增的列\n",
    "original_data = pd.read_csv(r'C:\\Users\\haolipu\\Desktop\\daily learning\\Python学习\\Python打卡第五天\\data.csv')\n",
    "original_columns = original_data.columns\n",
    "new_columns = [col for col in data.columns if col not in original_columns]\n",
    "\n",
    "print(\"\\n独热编码后新增的列：\", new_columns)\n",
    "\n",
    "# 5. 将独热编码的结果转换为int类型\n",
    "data[new_columns] = data[new_columns].astype(int)\n",
    "\n",
    "# 6. 处理所有列的缺失值\n",
    "numeric_columns = data.select_dtypes(include=[np.number]).columns\n",
    "for column in numeric_columns:\n",
    "    missing_count = data[column].isnull().sum()\n",
    "    if missing_count > 0:\n",
    "        print(f\"\\n列 '{column}' 有 {missing_count} 个缺失值\")\n",
    "        # 使用更安全的方式填充缺失值\n",
    "        data.loc[:, column] = data[column].fillna(data[column].mean())\n",
    "\n",
    "# 7. 验证是否还有缺失值\n",
    "remaining_nulls = data.isnull().sum().sum()\n",
    "print(f\"\\n处理后剩余的缺失值总数：{remaining_nulls}\")\n",
    "\n",
    "# 8. 保存处理后的数据\n",
    "data.to_csv(r'C:\\Users\\haolipu\\Desktop\\daily learning\\Python学习\\Python打卡第五天\\processed_data.csv', index=False)\n",
    "\n",
    "print(\"\\n数据处理完成！\")\n",
    "print(f\"处理后的数据维度：{data.shape}\")"
   ]
  }
 ],
 "metadata": {
  "kernelspec": {
   "display_name": "vs",
   "language": "python",
   "name": "python3"
  },
  "language_info": {
   "codemirror_mode": {
    "name": "ipython",
    "version": 3
   },
   "file_extension": ".py",
   "mimetype": "text/x-python",
   "name": "python",
   "nbconvert_exporter": "python",
   "pygments_lexer": "ipython3",
   "version": "3.9.19"
  }
 },
 "nbformat": 4,
 "nbformat_minor": 5
}
