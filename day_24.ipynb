{
 "cells": [
  {
   "cell_type": "code",
   "execution_count": 1,
   "id": "09a8507c",
   "metadata": {},
   "outputs": [
    {
     "name": "stdout",
     "output_type": "stream",
     "text": [
      "(1, 2, 3)\n",
      "('a', 'b', 'c')\n",
      "(1, 'hello', 3.14, [4, 5])\n"
     ]
    }
   ],
   "source": [
    "my_tuple1 = (1, 2, 3)\n",
    "my_tuple2 = ('a', 'b', 'c')\n",
    "my_tuple3 = (1, 'hello', 3.14, [4, 5]) # 可以包含不同类型的元素\n",
    "print(my_tuple1)\n",
    "print(my_tuple2)\n",
    "print(my_tuple3)"
   ]
  },
  {
   "cell_type": "code",
   "execution_count": 2,
   "id": "daba8072",
   "metadata": {},
   "outputs": [
    {
     "name": "stdout",
     "output_type": "stream",
     "text": [
      "(10, 20, 'thirty')\n",
      "<class 'tuple'>\n"
     ]
    }
   ],
   "source": [
    "my_tuple4 = 10, 20, 'thirty' # 逗号是关键\n",
    "print(my_tuple4)\n",
    "print(type(my_tuple4)) # 看看它的类型"
   ]
  },
  {
   "cell_type": "code",
   "execution_count": 3,
   "id": "682d86c7",
   "metadata": {},
   "outputs": [
    {
     "name": "stdout",
     "output_type": "stream",
     "text": [
      "()\n",
      "()\n"
     ]
    }
   ],
   "source": [
    "# 创建空元组\n",
    "empty_tuple = ()\n",
    "# 或者使用 tuple() 函数\n",
    "empty_tuple2 = tuple()\n",
    "print(empty_tuple)\n",
    "print(empty_tuple2)"
   ]
  },
  {
   "cell_type": "code",
   "execution_count": 5,
   "id": "e63ca7c8",
   "metadata": {},
   "outputs": [
    {
     "name": "stdout",
     "output_type": "stream",
     "text": [
      "P\n",
      "t\n",
      "n\n"
     ]
    }
   ],
   "source": [
    "# 元组的索引\n",
    "my_tuple = ('P', 'y', 't', 'h', 'o', 'n')\n",
    "print(my_tuple[0])  # 第一个元素\n",
    "print(my_tuple[2])  # 第三个元素\n",
    "print(my_tuple[-1]) # 最后一个元素"
   ]
  },
  {
   "cell_type": "code",
   "execution_count": 4,
   "id": "0d5b1d49",
   "metadata": {},
   "outputs": [
    {
     "name": "stdout",
     "output_type": "stream",
     "text": [
      "(1, 2, 3)\n",
      "(0, 1, 2)\n",
      "(3, 4, 5)\n",
      "(0, 2, 4)\n"
     ]
    }
   ],
   "source": [
    "# 元组的切片\n",
    "my_tuple = (0, 1, 2, 3, 4, 5)\n",
    "print(my_tuple[1:4])  # 从索引 1 到 3 (不包括 4)\n",
    "print(my_tuple[:3])   # 从开头到索引 2\n",
    "print(my_tuple[3:])   # 从索引 3 到结尾\n",
    "print(my_tuple[::2])  # 每隔一个元素取一个"
   ]
  },
  {
   "cell_type": "code",
   "execution_count": 6,
   "id": "98ff59c0",
   "metadata": {},
   "outputs": [
    {
     "name": "stdout",
     "output_type": "stream",
     "text": [
      "3\n"
     ]
    }
   ],
   "source": [
    "# 元组的长度获取\n",
    "my_tuple = (1, 2, 3)\n",
    "print(len(my_tuple))"
   ]
  },
  {
   "cell_type": "code",
   "execution_count": 7,
   "id": "483f2b45",
   "metadata": {},
   "outputs": [
    {
     "name": "stderr",
     "output_type": "stream",
     "text": [
      "c:\\Anaconda\\envs\\vs\\lib\\site-packages\\scipy\\__init__.py:146: UserWarning: A NumPy version >=1.16.5 and <1.23.0 is required for this version of SciPy (detected version 1.26.4\n",
      "  warnings.warn(f\"A NumPy version >={np_minversion} and <{np_maxversion}\"\n"
     ]
    },
    {
     "name": "stdout",
     "output_type": "stream",
     "text": [
      "模型在测试集上的准确率: 1.00\n"
     ]
    }
   ],
   "source": [
    "from sklearn.datasets import load_iris\n",
    "from sklearn.model_selection import train_test_split\n",
    "from sklearn.preprocessing import StandardScaler\n",
    "from sklearn.linear_model import LogisticRegression\n",
    "from sklearn.pipeline import Pipeline\n",
    "from sklearn.metrics import accuracy_score\n",
    "\n",
    "# 1. 加载数据\n",
    "iris = load_iris()\n",
    "X = iris.data\n",
    "y = iris.target\n",
    "\n",
    "# 2. 划分训练集和测试集\n",
    "X_train, X_test, y_train, y_test = train_test_split(X, y, test_size=0.3, random_state=42)\n",
    "\n",
    "# 3. 构建管道\n",
    "# 管道按顺序执行以下步骤：\n",
    "#    - StandardScaler(): 标准化数据（移除均值并缩放到单位方差）\n",
    "#    - LogisticRegression(): 逻辑回归分类器\n",
    "pipeline = Pipeline([\n",
    "    ('scaler', StandardScaler()),\n",
    "    ('logreg', LogisticRegression())\n",
    "])\n",
    "\n",
    "# 4. 训练模型\n",
    "pipeline.fit(X_train, y_train)\n",
    "\n",
    "# 5. 预测\n",
    "y_pred = pipeline.predict(X_test)\n",
    "\n",
    "# 6. 评估模型\n",
    "accuracy = accuracy_score(y_test, y_pred)\n",
    "print(f\"模型在测试集上的准确率: {accuracy:.2f}\")"
   ]
  },
  {
   "cell_type": "code",
   "execution_count": 8,
   "id": "440bea1e",
   "metadata": {},
   "outputs": [
    {
     "name": "stdout",
     "output_type": "stream",
     "text": [
      "迭代列表:\n",
      "1\n",
      "2\n",
      "3\n",
      "4\n",
      "5\n"
     ]
    }
   ],
   "source": [
    "# 列表 (list)\n",
    "print(\"迭代列表:\")\n",
    "my_list = [1, 2, 3, 4, 5]\n",
    "for item in my_list:\n",
    "    print(item)"
   ]
  },
  {
   "cell_type": "code",
   "execution_count": 9,
   "id": "d4fa7684",
   "metadata": {},
   "outputs": [
    {
     "name": "stdout",
     "output_type": "stream",
     "text": [
      "迭代元组:\n",
      "a\n",
      "b\n",
      "c\n"
     ]
    }
   ],
   "source": [
    "# 元组 (tuple)\n",
    "print(\"迭代元组:\")\n",
    "my_tuple = ('a', 'b', 'c')\n",
    "for item in my_tuple:\n",
    "    print(item)"
   ]
  },
  {
   "cell_type": "code",
   "execution_count": 11,
   "id": "39a05249",
   "metadata": {},
   "outputs": [
    {
     "name": "stdout",
     "output_type": "stream",
     "text": [
      "迭代字符串:\n",
      "h\n",
      "e\n",
      "l\n",
      "l\n",
      "o\n"
     ]
    }
   ],
   "source": [
    "# 字符串 (str)\n",
    "print(\"迭代字符串:\")\n",
    "my_string = \"hello\"\n",
    "for char in my_string:\n",
    "    print(char)"
   ]
  },
  {
   "cell_type": "code",
   "execution_count": 10,
   "id": "7a066675",
   "metadata": {},
   "outputs": [
    {
     "name": "stdout",
     "output_type": "stream",
     "text": [
      "迭代 range:\n",
      "0\n",
      "1\n",
      "2\n",
      "3\n",
      "4\n"
     ]
    }
   ],
   "source": [
    "# range (范围)\n",
    "print(\"迭代 range:\")\n",
    "for number in range(5):  # 生成 0, 1, 2, 3, 4\n",
    "    print(number)"
   ]
  },
  {
   "cell_type": "code",
   "execution_count": 12,
   "id": "9386ee80",
   "metadata": {},
   "outputs": [
    {
     "name": "stdout",
     "output_type": "stream",
     "text": [
      "迭代集合:\n",
      "1\n",
      "3\n",
      "4\n",
      "5\n",
      "9\n"
     ]
    }
   ],
   "source": [
    "# 集合类型 (Set Types)\n",
    "\n",
    "# 集合 (set) - 注意集合是无序的，所以每次迭代的顺序可能不同\n",
    "print(\"迭代集合:\")\n",
    "my_set = {3, 1, 4, 1, 5, 9}\n",
    "for item in my_set:\n",
    "    print(item)"
   ]
  },
  {
   "cell_type": "code",
   "execution_count": 14,
   "id": "4c9d6f62",
   "metadata": {},
   "outputs": [
    {
     "name": "stdout",
     "output_type": "stream",
     "text": [
      "迭代字典 (默认迭代键):\n",
      "name\n",
      "age\n",
      "city\n"
     ]
    }
   ],
   "source": [
    "# 字典 (dict) - 默认迭代时返回键 (keys)\n",
    "print(\"迭代字典 (默认迭代键):\")\n",
    "my_dict = {'name': 'Alice', 'age': 30, 'city': 'Singapore'}\n",
    "for key in my_dict:\n",
    "    print(key)"
   ]
  },
  {
   "cell_type": "code",
   "execution_count": 15,
   "id": "ce394fdd",
   "metadata": {},
   "outputs": [
    {
     "name": "stdout",
     "output_type": "stream",
     "text": [
      "迭代字典的值:\n",
      "Alice\n",
      "30\n",
      "Singapore\n"
     ]
    }
   ],
   "source": [
    "# 迭代字典的值 (values)\n",
    "print(\"迭代字典的值:\")\n",
    "for value in my_dict.values():\n",
    "    print(value)"
   ]
  },
  {
   "cell_type": "code",
   "execution_count": 16,
   "id": "de0af197",
   "metadata": {},
   "outputs": [
    {
     "name": "stdout",
     "output_type": "stream",
     "text": [
      "迭代字典的值:\n",
      "Alice\n",
      "30\n",
      "Singapore\n"
     ]
    }
   ],
   "source": [
    "# 迭代字典的值 (values)\n",
    "print(\"迭代字典的值:\")\n",
    "for value in my_dict.values():\n",
    "    print(value)"
   ]
  },
  {
   "cell_type": "code",
   "execution_count": 17,
   "id": "71023dda",
   "metadata": {},
   "outputs": [
    {
     "name": "stdout",
     "output_type": "stream",
     "text": [
      "迭代字典的键值对:\n",
      "Key: name, Value: Alice\n",
      "Key: age, Value: 30\n",
      "Key: city, Value: Singapore\n"
     ]
    }
   ],
   "source": [
    "# 迭代字典的键值对 (items)\n",
    "print(\"迭代字典的键值对:\")\n",
    "for key, value in my_dict.items(): # items方法很好用\n",
    "    print(f\"Key: {key}, Value: {value}\")"
   ]
  },
  {
   "cell_type": "code",
   "execution_count": 18,
   "id": "0f6b256b",
   "metadata": {},
   "outputs": [
    {
     "data": {
      "text/plain": [
       "'C:\\\\Users\\\\YourUsername\\\\Documents\\\\MyProjectData\\\\results.csv'"
      ]
     },
     "execution_count": 18,
     "metadata": {},
     "output_type": "execute_result"
    }
   ],
   "source": [
    "import os\n",
    "os.getcwd()\n",
    "os.listdir()\n",
    "path_a = r'C:\\Users\\YourUsername\\Documents' # r''这个写法是写给python解释器看，他只会读取引号内的内容，不用在意r的存在会不会影响拼接\n",
    "path_b = 'MyProjectData'\n",
    "file = 'results.csv'\n",
    "\n",
    "# 使用 os.path.join 将它们安全地拼接起来，os.path.join 会自动使用 Windows 的反斜杠 '\\' 作为分隔符\n",
    "file_path = os.path.join(path_a , path_b, file)\n",
    "\n",
    "file_path\n"
   ]
  },
  {
   "cell_type": "code",
   "execution_count": 19,
   "id": "975f2c02",
   "metadata": {},
   "outputs": [
    {
     "data": {
      "text/plain": [
       "environ{'ALLUSERSPROFILE': 'C:\\\\ProgramData',\n",
       "        'APPDATA': 'C:\\\\Users\\\\haolipu\\\\AppData\\\\Roaming',\n",
       "        'CHROME_CRASHPAD_PIPE_NAME': '\\\\\\\\.\\\\pipe\\\\crashpad_82448_XHFCQUUQKGCXROOF',\n",
       "        'COMMONPROGRAMFILES': 'C:\\\\Program Files\\\\Common Files',\n",
       "        'COMMONPROGRAMFILES(X86)': 'C:\\\\Program Files (x86)\\\\Common Files',\n",
       "        'COMMONPROGRAMW6432': 'C:\\\\Program Files\\\\Common Files',\n",
       "        'COMPUTERNAME': 'LAPTOP-PMFIVL0T',\n",
       "        'COMSPEC': 'C:\\\\Windows\\\\system32\\\\cmd.exe',\n",
       "        'CONDA_DEFAULT_ENV': 'vs',\n",
       "        'CONDA_EXE': 'C:\\\\Anaconda\\\\Scripts\\\\conda.exe',\n",
       "        'CONDA_EXES': '\"C:\\\\Anaconda\\\\condabin\\\\..\\\\Scripts\\\\conda.exe\"  ',\n",
       "        'CONDA_PREFIX': 'C:\\\\Anaconda\\\\envs\\\\vs',\n",
       "        'CONDA_PROMPT_MODIFIER': '(vs) ',\n",
       "        'CONDA_PYTHON_EXE': 'C:\\\\Anaconda\\\\python.exe',\n",
       "        'CONDA_ROOT': 'C:\\\\Anaconda',\n",
       "        'CONDA_SHLVL': '1',\n",
       "        'CUDA_PATH': 'C:\\\\Program Files\\\\NVIDIA GPU Computing Toolkit\\\\CUDA\\\\v11.3',\n",
       "        'CUDA_PATH_V11_3': 'C:\\\\Program Files\\\\NVIDIA GPU Computing Toolkit\\\\CUDA\\\\v11.3',\n",
       "        'DRIVERDATA': 'C:\\\\Windows\\\\System32\\\\Drivers\\\\DriverData',\n",
       "        'EFC_20992': '1',\n",
       "        'ELECTRON_RUN_AS_NODE': '1',\n",
       "        'HOMEDRIVE': 'C:',\n",
       "        'HOMEPATH': '\\\\Users\\\\haolipu',\n",
       "        'JPY_INTERRUPT_EVENT': '1856',\n",
       "        'LOCALAPPDATA': 'C:\\\\Users\\\\haolipu\\\\AppData\\\\Local',\n",
       "        'LOGONSERVER': '\\\\\\\\LAPTOP-PMFIVL0T',\n",
       "        'NUMBER_OF_PROCESSORS': '32',\n",
       "        'NVCUDASAMPLES11_3_ROOT': 'C:\\\\ProgramData\\\\NVIDIA Corporation\\\\CUDA Samples\\\\v11.3',\n",
       "        'NVCUDASAMPLES_ROOT': 'C:\\\\ProgramData\\\\NVIDIA Corporation\\\\CUDA Samples\\\\v11.3',\n",
       "        'NVTOOLSEXT_PATH': 'C:\\\\Program Files\\\\NVIDIA Corporation\\\\NvToolsExt\\\\',\n",
       "        'ONEDRIVE': 'C:\\\\Users\\\\haolipu\\\\OneDrive',\n",
       "        'ONEDRIVECONSUMER': 'C:\\\\Users\\\\haolipu\\\\OneDrive',\n",
       "        'ORIGINAL_XDG_CURRENT_DESKTOP': 'undefined',\n",
       "        'OS': 'Windows_NT',\n",
       "        'PATH': 'c:\\\\Anaconda\\\\envs\\\\vs;C:\\\\Anaconda\\\\envs\\\\vs;C:\\\\Anaconda\\\\envs\\\\vs\\\\Library\\\\mingw-w64\\\\bin;C:\\\\Anaconda\\\\envs\\\\vs\\\\Library\\\\usr\\\\bin;C:\\\\Anaconda\\\\envs\\\\vs\\\\Library\\\\bin;C:\\\\Anaconda\\\\envs\\\\vs\\\\Scripts;C:\\\\Anaconda\\\\envs\\\\vs\\\\bin;C:\\\\Anaconda\\\\condabin;c:\\\\Users\\\\haolipu\\\\AppData\\\\Local\\\\Programs\\\\cursor\\\\resources\\\\app\\\\bin;C:\\\\Program Files (x86)\\\\VMware\\\\VMware Workstation\\\\bin;C:\\\\CRT;C:\\\\Program Files\\\\NVIDIA GPU Computing Toolkit\\\\CUDA\\\\v11.3\\\\bin;C:\\\\Program Files\\\\NVIDIA GPU Computing Toolkit\\\\CUDA\\\\v11.3\\\\libnvvp;C:\\\\Windows\\\\system32;C:\\\\Windows;C:\\\\Windows\\\\System32\\\\Wbem;C:\\\\Windows\\\\System32\\\\WindowsPowerShell\\\\v1.0;C:\\\\Windows\\\\System32\\\\OpenSSH;C:\\\\Program Files (x86)\\\\NVIDIA Corporation\\\\PhysX\\\\Common;C:\\\\Program Files\\\\NVIDIA Corporation\\\\NVIDIA NvDLISR;C:\\\\Program Files\\\\Microsoft SQL Server\\\\150\\\\Tools\\\\Binn;C:\\\\Program Files\\\\Microsoft SQL Server\\\\Client SDK\\\\ODBC\\\\170\\\\Tools\\\\Binn;C:\\\\Program Files (x86)\\\\Windows Kits\\\\10\\\\Windows Performance Toolkit;C:\\\\Anaconda;C:\\\\Anaconda\\\\Library\\\\bin;C:\\\\Anaconda\\\\Scripts;C:\\\\Program Files\\\\NVIDIA Corporation\\\\Nsight Compute 2021.1.0;C:\\\\Program Files\\\\NVIDIA GPU Computing Toolkit\\\\CUDA;C:\\\\Program Files\\\\NVIDIA GPU Computing Toolkit\\\\CUDA\\\\v11.3\\\\lib\\\\x64;C:\\\\Program Files\\\\MATLAB\\\\R2024a\\\\runtime\\\\win64;C:\\\\Program Files\\\\MATLAB\\\\R2024a\\\\bin;C:\\\\Pro;C:\\\\Users\\\\haolipu\\\\AppData\\\\Local\\\\Microsoft\\\\WindowsApps;C:\\\\Users\\\\haolipu\\\\AppData\\\\Local\\\\Programs\\\\Microsoft VS Code\\\\bin;C:\\\\Pycharm\\\\PyCharm Community Edition 2020.1.3\\\\bin;C:\\\\Program Files\\\\Bandizip;C:\\\\Program Files (x86)\\\\Prince;C:\\\\Users\\\\haolipu\\\\.dotnet\\\\tools;C:\\\\Users\\\\haolipu\\\\AppData\\\\Local\\\\Programs\\\\cursor\\\\resources\\\\app\\\\bin;C:\\\\Program Files\\\\Microsoft Visual Studio\\\\2022\\\\Community\\\\VC\\\\Tools\\\\MSVC\\\\14.43.34808\\\\bin\\\\Hostx64\\\\x64;C:\\\\Program Files\\\\Microsoft Visual Studio\\\\2022\\\\Community\\\\VC\\\\Tools\\\\MSVC\\\\14.43.34808\\\\bin\\\\Hostx64\\\\x64;C:\\\\Program Files\\\\Microsoft Visual Studio\\\\2022\\\\Community\\\\VC\\\\Tools\\\\MSVC\\\\14.43.34808\\\\bin\\\\Hostx86\\\\x86;C:\\\\Users\\\\haolipu\\\\Desktop\\\\daily learning\\\\Xshell;C:\\\\Program Files\\\\Git\\\\cmd;C:\\\\Users\\\\haolipu\\\\AppData\\\\Local\\\\Microsoft\\\\WindowsApps;C:\\\\Users\\\\haolipu\\\\AppData\\\\Local\\\\Programs\\\\Microsoft VS Code\\\\bin;C:\\\\Pycharm\\\\PyCharm Community Edition 2020.1.3\\\\bin;.;C:\\\\Program Files\\\\Bandizip;C:\\\\Program Files (x86)\\\\Prince;C:\\\\Users\\\\haolipu\\\\.dotnet\\\\tools;C:\\\\Users\\\\haolipu\\\\AppData\\\\Local\\\\Programs\\\\cursor\\\\resources\\\\app\\\\bin;C:\\\\msys64\\\\ucrt64\\\\bin;.',\n",
       "        'PATHEXT': '.COM;.EXE;.BAT;.CMD;.VBS;.VBE;.JS;.JSE;.WSF;.WSH;.MSC',\n",
       "        'PROCESSOR_ARCHITECTURE': 'AMD64',\n",
       "        'PROCESSOR_IDENTIFIER': 'AMD64 Family 25 Model 97 Stepping 2, AuthenticAMD',\n",
       "        'PROCESSOR_LEVEL': '25',\n",
       "        'PROCESSOR_REVISION': '6102',\n",
       "        'PROGRAMDATA': 'C:\\\\ProgramData',\n",
       "        'PROGRAMFILES': 'C:\\\\Program Files',\n",
       "        'PROGRAMFILES(X86)': 'C:\\\\Program Files (x86)',\n",
       "        'PROGRAMW6432': 'C:\\\\Program Files',\n",
       "        'PROMPT': '(vs) $P$G',\n",
       "        'PSMODULEPATH': 'C:\\\\Program Files\\\\WindowsPowerShell\\\\Modules;C:\\\\Windows\\\\system32\\\\WindowsPowerShell\\\\v1.0\\\\Modules',\n",
       "        'PUBLIC': 'C:\\\\Users\\\\Public',\n",
       "        'PYCHARM COMMUNITY EDITION': 'C:\\\\Pycharm\\\\PyCharm Community Edition 2020.1.3\\\\bin;',\n",
       "        'PYDEVD_IPYTHON_COMPATIBLE_DEBUGGING': '1',\n",
       "        'PYTHONIOENCODING': 'utf-8',\n",
       "        'PYTHONUNBUFFERED': '1',\n",
       "        'PYTHONUTF8': '1',\n",
       "        'PYTHON_FROZEN_MODULES': 'on',\n",
       "        'SESSIONNAME': 'Console',\n",
       "        'SSL_CERT_FILE': 'C:\\\\Anaconda\\\\envs\\\\vs\\\\Library\\\\ssl\\\\cacert.pem',\n",
       "        'SYSTEMDRIVE': 'C:',\n",
       "        'SYSTEMROOT': 'C:\\\\Windows',\n",
       "        'TEMP': 'C:\\\\Users\\\\haolipu\\\\AppData\\\\Local\\\\Temp',\n",
       "        'TMP': 'C:\\\\Users\\\\haolipu\\\\AppData\\\\Local\\\\Temp',\n",
       "        'USERDOMAIN': 'LAPTOP-PMFIVL0T',\n",
       "        'USERDOMAIN_ROAMINGPROFILE': 'LAPTOP-PMFIVL0T',\n",
       "        'USERNAME': 'haolipu',\n",
       "        'USERPROFILE': 'C:\\\\Users\\\\haolipu',\n",
       "        'VSCODE_CODE_CACHE_PATH': 'C:\\\\Users\\\\haolipu\\\\AppData\\\\Roaming\\\\Code\\\\CachedData\\\\91fa95bccb027ece6a968589bb1d662fa9c8e170',\n",
       "        'VSCODE_CRASH_REPORTER_PROCESS_TYPE': 'extensionHost',\n",
       "        'VSCODE_CWD': 'C:\\\\Users\\\\haolipu\\\\AppData\\\\Local\\\\Programs\\\\Microsoft VS Code',\n",
       "        'VSCODE_DOTNET_INSTALL_TOOL_ORIGINAL_HOME': 'undefined',\n",
       "        'VSCODE_ESM_ENTRYPOINT': 'vs/workbench/api/node/extensionHostProcess',\n",
       "        'VSCODE_HANDLES_UNCAUGHT_ERRORS': 'true',\n",
       "        'VSCODE_IPC_HOOK': '\\\\\\\\.\\\\pipe\\\\67d5b529-1.100.1-main-sock',\n",
       "        'VSCODE_L10N_BUNDLE_LOCATION': 'file:///c%3A/Users/haolipu/.vscode/extensions/ms-ceintl.vscode-language-pack-zh-hans-1.100.2025051409/translations/extensions/vscode.json-language-features.i18n.json',\n",
       "        'VSCODE_NLS_CONFIG': '{\"userLocale\":\"zh-cn\",\"osLocale\":\"zh-cn\",\"resolvedLanguage\":\"zh-cn\",\"defaultMessagesFile\":\"C:\\\\\\\\Users\\\\\\\\haolipu\\\\\\\\AppData\\\\\\\\Local\\\\\\\\Programs\\\\\\\\Microsoft VS Code\\\\\\\\resources\\\\\\\\app\\\\\\\\out\\\\\\\\nls.messages.json\",\"languagePack\":{\"translationsConfigFile\":\"C:\\\\\\\\Users\\\\\\\\haolipu\\\\\\\\AppData\\\\\\\\Roaming\\\\\\\\Code\\\\\\\\clp\\\\\\\\90de127a337928b85e669c0973ef8bae.zh-cn\\\\\\\\tcf.json\",\"messagesFile\":\"C:\\\\\\\\Users\\\\\\\\haolipu\\\\\\\\AppData\\\\\\\\Roaming\\\\\\\\Code\\\\\\\\clp\\\\\\\\90de127a337928b85e669c0973ef8bae.zh-cn\\\\\\\\91fa95bccb027ece6a968589bb1d662fa9c8e170\\\\\\\\nls.messages.json\",\"corruptMarkerFile\":\"C:\\\\\\\\Users\\\\\\\\haolipu\\\\\\\\AppData\\\\\\\\Roaming\\\\\\\\Code\\\\\\\\clp\\\\\\\\90de127a337928b85e669c0973ef8bae.zh-cn\\\\\\\\corrupted.info\"},\"locale\":\"zh-cn\",\"availableLanguages\":{\"*\":\"zh-cn\"},\"_languagePackId\":\"90de127a337928b85e669c0973ef8bae.zh-cn\",\"_languagePackSupport\":true,\"_translationsConfigFile\":\"C:\\\\\\\\Users\\\\\\\\haolipu\\\\\\\\AppData\\\\\\\\Roaming\\\\\\\\Code\\\\\\\\clp\\\\\\\\90de127a337928b85e669c0973ef8bae.zh-cn\\\\\\\\tcf.json\",\"_cacheRoot\":\"C:\\\\\\\\Users\\\\\\\\haolipu\\\\\\\\AppData\\\\\\\\Roaming\\\\\\\\Code\\\\\\\\clp\\\\\\\\90de127a337928b85e669c0973ef8bae.zh-cn\",\"_resolvedLanguagePackCoreLocation\":\"C:\\\\\\\\Users\\\\\\\\haolipu\\\\\\\\AppData\\\\\\\\Roaming\\\\\\\\Code\\\\\\\\clp\\\\\\\\90de127a337928b85e669c0973ef8bae.zh-cn\\\\\\\\91fa95bccb027ece6a968589bb1d662fa9c8e170\",\"_corruptedFile\":\"C:\\\\\\\\Users\\\\\\\\haolipu\\\\\\\\AppData\\\\\\\\Roaming\\\\\\\\Code\\\\\\\\clp\\\\\\\\90de127a337928b85e669c0973ef8bae.zh-cn\\\\\\\\corrupted.info\"}',\n",
       "        'VSCODE_PID': '82448',\n",
       "        'WINDIR': 'C:\\\\Windows',\n",
       "        '_CONDA_OLD_CHCP': '936',\n",
       "        '__CONDA_OPENSLL_CERT_FILE_SET': '\"1\"',\n",
       "        'PYDEVD_USE_FRAME_EVAL': 'NO',\n",
       "        'TERM': 'xterm-color',\n",
       "        'CLICOLOR': '1',\n",
       "        'FORCE_COLOR': '1',\n",
       "        'CLICOLOR_FORCE': '1',\n",
       "        'PAGER': 'cat',\n",
       "        'GIT_PAGER': 'cat',\n",
       "        'MPLBACKEND': 'module://matplotlib_inline.backend_inline',\n",
       "        'KMP_DUPLICATE_LIB_OK': 'True',\n",
       "        'KMP_INIT_AT_FORK': 'FALSE'}"
      ]
     },
     "execution_count": 19,
     "metadata": {},
     "output_type": "execute_result"
    }
   ],
   "source": [
    "os.environ"
   ]
  },
  {
   "cell_type": "code",
   "execution_count": 20,
   "id": "d25d4085",
   "metadata": {},
   "outputs": [
    {
     "name": "stdout",
     "output_type": "stream",
     "text": [
      "ALLUSERSPROFILE=C:\\ProgramData\n",
      "APPDATA=C:\\Users\\haolipu\\AppData\\Roaming\n",
      "CHROME_CRASHPAD_PIPE_NAME=\\\\.\\pipe\\crashpad_82448_XHFCQUUQKGCXROOF\n",
      "COMMONPROGRAMFILES=C:\\Program Files\\Common Files\n",
      "COMMONPROGRAMFILES(X86)=C:\\Program Files (x86)\\Common Files\n",
      "COMMONPROGRAMW6432=C:\\Program Files\\Common Files\n",
      "COMPUTERNAME=LAPTOP-PMFIVL0T\n",
      "COMSPEC=C:\\Windows\\system32\\cmd.exe\n",
      "CONDA_DEFAULT_ENV=vs\n",
      "CONDA_EXE=C:\\Anaconda\\Scripts\\conda.exe\n",
      "CONDA_EXES=\"C:\\Anaconda\\condabin\\..\\Scripts\\conda.exe\"  \n",
      "CONDA_PREFIX=C:\\Anaconda\\envs\\vs\n",
      "CONDA_PROMPT_MODIFIER=(vs) \n",
      "CONDA_PYTHON_EXE=C:\\Anaconda\\python.exe\n",
      "CONDA_ROOT=C:\\Anaconda\n",
      "CONDA_SHLVL=1\n",
      "CUDA_PATH=C:\\Program Files\\NVIDIA GPU Computing Toolkit\\CUDA\\v11.3\n",
      "CUDA_PATH_V11_3=C:\\Program Files\\NVIDIA GPU Computing Toolkit\\CUDA\\v11.3\n",
      "DRIVERDATA=C:\\Windows\\System32\\Drivers\\DriverData\n",
      "EFC_20992=1\n",
      "ELECTRON_RUN_AS_NODE=1\n",
      "HOMEDRIVE=C:\n",
      "HOMEPATH=\\Users\\haolipu\n",
      "JPY_INTERRUPT_EVENT=1856\n",
      "LOCALAPPDATA=C:\\Users\\haolipu\\AppData\\Local\n",
      "LOGONSERVER=\\\\LAPTOP-PMFIVL0T\n",
      "NUMBER_OF_PROCESSORS=32\n",
      "NVCUDASAMPLES11_3_ROOT=C:\\ProgramData\\NVIDIA Corporation\\CUDA Samples\\v11.3\n",
      "NVCUDASAMPLES_ROOT=C:\\ProgramData\\NVIDIA Corporation\\CUDA Samples\\v11.3\n",
      "NVTOOLSEXT_PATH=C:\\Program Files\\NVIDIA Corporation\\NvToolsExt\\\n",
      "ONEDRIVE=C:\\Users\\haolipu\\OneDrive\n",
      "ONEDRIVECONSUMER=C:\\Users\\haolipu\\OneDrive\n",
      "ORIGINAL_XDG_CURRENT_DESKTOP=undefined\n",
      "OS=Windows_NT\n",
      "PATH=c:\\Anaconda\\envs\\vs;C:\\Anaconda\\envs\\vs;C:\\Anaconda\\envs\\vs\\Library\\mingw-w64\\bin;C:\\Anaconda\\envs\\vs\\Library\\usr\\bin;C:\\Anaconda\\envs\\vs\\Library\\bin;C:\\Anaconda\\envs\\vs\\Scripts;C:\\Anaconda\\envs\\vs\\bin;C:\\Anaconda\\condabin;c:\\Users\\haolipu\\AppData\\Local\\Programs\\cursor\\resources\\app\\bin;C:\\Program Files (x86)\\VMware\\VMware Workstation\\bin;C:\\CRT;C:\\Program Files\\NVIDIA GPU Computing Toolkit\\CUDA\\v11.3\\bin;C:\\Program Files\\NVIDIA GPU Computing Toolkit\\CUDA\\v11.3\\libnvvp;C:\\Windows\\system32;C:\\Windows;C:\\Windows\\System32\\Wbem;C:\\Windows\\System32\\WindowsPowerShell\\v1.0;C:\\Windows\\System32\\OpenSSH;C:\\Program Files (x86)\\NVIDIA Corporation\\PhysX\\Common;C:\\Program Files\\NVIDIA Corporation\\NVIDIA NvDLISR;C:\\Program Files\\Microsoft SQL Server\\150\\Tools\\Binn;C:\\Program Files\\Microsoft SQL Server\\Client SDK\\ODBC\\170\\Tools\\Binn;C:\\Program Files (x86)\\Windows Kits\\10\\Windows Performance Toolkit;C:\\Anaconda;C:\\Anaconda\\Library\\bin;C:\\Anaconda\\Scripts;C:\\Program Files\\NVIDIA Corporation\\Nsight Compute 2021.1.0;C:\\Program Files\\NVIDIA GPU Computing Toolkit\\CUDA;C:\\Program Files\\NVIDIA GPU Computing Toolkit\\CUDA\\v11.3\\lib\\x64;C:\\Program Files\\MATLAB\\R2024a\\runtime\\win64;C:\\Program Files\\MATLAB\\R2024a\\bin;C:\\Pro;C:\\Users\\haolipu\\AppData\\Local\\Microsoft\\WindowsApps;C:\\Users\\haolipu\\AppData\\Local\\Programs\\Microsoft VS Code\\bin;C:\\Pycharm\\PyCharm Community Edition 2020.1.3\\bin;C:\\Program Files\\Bandizip;C:\\Program Files (x86)\\Prince;C:\\Users\\haolipu\\.dotnet\\tools;C:\\Users\\haolipu\\AppData\\Local\\Programs\\cursor\\resources\\app\\bin;C:\\Program Files\\Microsoft Visual Studio\\2022\\Community\\VC\\Tools\\MSVC\\14.43.34808\\bin\\Hostx64\\x64;C:\\Program Files\\Microsoft Visual Studio\\2022\\Community\\VC\\Tools\\MSVC\\14.43.34808\\bin\\Hostx64\\x64;C:\\Program Files\\Microsoft Visual Studio\\2022\\Community\\VC\\Tools\\MSVC\\14.43.34808\\bin\\Hostx86\\x86;C:\\Users\\haolipu\\Desktop\\daily learning\\Xshell;C:\\Program Files\\Git\\cmd;C:\\Users\\haolipu\\AppData\\Local\\Microsoft\\WindowsApps;C:\\Users\\haolipu\\AppData\\Local\\Programs\\Microsoft VS Code\\bin;C:\\Pycharm\\PyCharm Community Edition 2020.1.3\\bin;.;C:\\Program Files\\Bandizip;C:\\Program Files (x86)\\Prince;C:\\Users\\haolipu\\.dotnet\\tools;C:\\Users\\haolipu\\AppData\\Local\\Programs\\cursor\\resources\\app\\bin;C:\\msys64\\ucrt64\\bin;.\n",
      "PATHEXT=.COM;.EXE;.BAT;.CMD;.VBS;.VBE;.JS;.JSE;.WSF;.WSH;.MSC\n",
      "PROCESSOR_ARCHITECTURE=AMD64\n",
      "PROCESSOR_IDENTIFIER=AMD64 Family 25 Model 97 Stepping 2, AuthenticAMD\n",
      "PROCESSOR_LEVEL=25\n",
      "PROCESSOR_REVISION=6102\n",
      "PROGRAMDATA=C:\\ProgramData\n",
      "PROGRAMFILES=C:\\Program Files\n",
      "PROGRAMFILES(X86)=C:\\Program Files (x86)\n",
      "PROGRAMW6432=C:\\Program Files\n",
      "PROMPT=(vs) $P$G\n",
      "PSMODULEPATH=C:\\Program Files\\WindowsPowerShell\\Modules;C:\\Windows\\system32\\WindowsPowerShell\\v1.0\\Modules\n",
      "PUBLIC=C:\\Users\\Public\n",
      "PYCHARM COMMUNITY EDITION=C:\\Pycharm\\PyCharm Community Edition 2020.1.3\\bin;\n",
      "PYDEVD_IPYTHON_COMPATIBLE_DEBUGGING=1\n",
      "PYTHONIOENCODING=utf-8\n",
      "PYTHONUNBUFFERED=1\n",
      "PYTHONUTF8=1\n",
      "PYTHON_FROZEN_MODULES=on\n",
      "SESSIONNAME=Console\n",
      "SSL_CERT_FILE=C:\\Anaconda\\envs\\vs\\Library\\ssl\\cacert.pem\n",
      "SYSTEMDRIVE=C:\n",
      "SYSTEMROOT=C:\\Windows\n",
      "TEMP=C:\\Users\\haolipu\\AppData\\Local\\Temp\n",
      "TMP=C:\\Users\\haolipu\\AppData\\Local\\Temp\n",
      "USERDOMAIN=LAPTOP-PMFIVL0T\n",
      "USERDOMAIN_ROAMINGPROFILE=LAPTOP-PMFIVL0T\n",
      "USERNAME=haolipu\n",
      "USERPROFILE=C:\\Users\\haolipu\n",
      "VSCODE_CODE_CACHE_PATH=C:\\Users\\haolipu\\AppData\\Roaming\\Code\\CachedData\\91fa95bccb027ece6a968589bb1d662fa9c8e170\n",
      "VSCODE_CRASH_REPORTER_PROCESS_TYPE=extensionHost\n",
      "VSCODE_CWD=C:\\Users\\haolipu\\AppData\\Local\\Programs\\Microsoft VS Code\n",
      "VSCODE_DOTNET_INSTALL_TOOL_ORIGINAL_HOME=undefined\n",
      "VSCODE_ESM_ENTRYPOINT=vs/workbench/api/node/extensionHostProcess\n",
      "VSCODE_HANDLES_UNCAUGHT_ERRORS=true\n",
      "VSCODE_IPC_HOOK=\\\\.\\pipe\\67d5b529-1.100.1-main-sock\n",
      "VSCODE_L10N_BUNDLE_LOCATION=file:///c%3A/Users/haolipu/.vscode/extensions/ms-ceintl.vscode-language-pack-zh-hans-1.100.2025051409/translations/extensions/vscode.json-language-features.i18n.json\n",
      "VSCODE_NLS_CONFIG={\"userLocale\":\"zh-cn\",\"osLocale\":\"zh-cn\",\"resolvedLanguage\":\"zh-cn\",\"defaultMessagesFile\":\"C:\\\\Users\\\\haolipu\\\\AppData\\\\Local\\\\Programs\\\\Microsoft VS Code\\\\resources\\\\app\\\\out\\\\nls.messages.json\",\"languagePack\":{\"translationsConfigFile\":\"C:\\\\Users\\\\haolipu\\\\AppData\\\\Roaming\\\\Code\\\\clp\\\\90de127a337928b85e669c0973ef8bae.zh-cn\\\\tcf.json\",\"messagesFile\":\"C:\\\\Users\\\\haolipu\\\\AppData\\\\Roaming\\\\Code\\\\clp\\\\90de127a337928b85e669c0973ef8bae.zh-cn\\\\91fa95bccb027ece6a968589bb1d662fa9c8e170\\\\nls.messages.json\",\"corruptMarkerFile\":\"C:\\\\Users\\\\haolipu\\\\AppData\\\\Roaming\\\\Code\\\\clp\\\\90de127a337928b85e669c0973ef8bae.zh-cn\\\\corrupted.info\"},\"locale\":\"zh-cn\",\"availableLanguages\":{\"*\":\"zh-cn\"},\"_languagePackId\":\"90de127a337928b85e669c0973ef8bae.zh-cn\",\"_languagePackSupport\":true,\"_translationsConfigFile\":\"C:\\\\Users\\\\haolipu\\\\AppData\\\\Roaming\\\\Code\\\\clp\\\\90de127a337928b85e669c0973ef8bae.zh-cn\\\\tcf.json\",\"_cacheRoot\":\"C:\\\\Users\\\\haolipu\\\\AppData\\\\Roaming\\\\Code\\\\clp\\\\90de127a337928b85e669c0973ef8bae.zh-cn\",\"_resolvedLanguagePackCoreLocation\":\"C:\\\\Users\\\\haolipu\\\\AppData\\\\Roaming\\\\Code\\\\clp\\\\90de127a337928b85e669c0973ef8bae.zh-cn\\\\91fa95bccb027ece6a968589bb1d662fa9c8e170\",\"_corruptedFile\":\"C:\\\\Users\\\\haolipu\\\\AppData\\\\Roaming\\\\Code\\\\clp\\\\90de127a337928b85e669c0973ef8bae.zh-cn\\\\corrupted.info\"}\n",
      "VSCODE_PID=82448\n",
      "WINDIR=C:\\Windows\n",
      "_CONDA_OLD_CHCP=936\n",
      "__CONDA_OPENSLL_CERT_FILE_SET=\"1\"\n",
      "PYDEVD_USE_FRAME_EVAL=NO\n",
      "TERM=xterm-color\n",
      "CLICOLOR=1\n",
      "FORCE_COLOR=1\n",
      "CLICOLOR_FORCE=1\n",
      "PAGER=cat\n",
      "GIT_PAGER=cat\n",
      "MPLBACKEND=module://matplotlib_inline.backend_inline\n",
      "KMP_DUPLICATE_LIB_OK=True\n",
      "KMP_INIT_AT_FORK=FALSE\n",
      "\n",
      "--- 总共检测到 86 个环境变量 ---\n"
     ]
    }
   ],
   "source": [
    "\n",
    "for variable_name, value in os.environ.items():\n",
    "  # 直接打印出变量名和对应的值\n",
    "  print(f\"{variable_name}={value}\")\n",
    "\n",
    "# 你也可以选择性地打印总数\n",
    "print(f\"\\n--- 总共检测到 {len(os.environ)} 个环境变量 ---\")"
   ]
  },
  {
   "cell_type": "code",
   "execution_count": 21,
   "id": "9184aed1",
   "metadata": {},
   "outputs": [
    {
     "name": "stdout",
     "output_type": "stream",
     "text": [
      "--- 开始遍历目录: c:\\Users\\haolipu\\Desktop\\daily learning\\Python学习\\Python打卡24天 ---\n",
      "  当前访问目录 (dirpath): c:\\Users\\haolipu\\Desktop\\daily learning\\Python学习\\Python打卡24天\n",
      "  子目录列表 (dirnames): []\n",
      "  文件列表 (filenames): ['day24 元组和OS模块.ipynb', 'day_24.ipynb']\n"
     ]
    }
   ],
   "source": [
    "import os\n",
    "\n",
    "start_directory = os.getcwd() # 假设这个目录在当前工作目录下\n",
    "\n",
    "print(f\"--- 开始遍历目录: {start_directory} ---\")\n",
    "\n",
    "for dirpath, dirnames, filenames in os.walk(start_directory):\n",
    "    print(f\"  当前访问目录 (dirpath): {dirpath}\")\n",
    "    print(f\"  子目录列表 (dirnames): {dirnames}\")\n",
    "    print(f\"  文件列表 (filenames): {filenames}\")"
   ]
  }
 ],
 "metadata": {
  "kernelspec": {
   "display_name": "vs",
   "language": "python",
   "name": "python3"
  },
  "language_info": {
   "codemirror_mode": {
    "name": "ipython",
    "version": 3
   },
   "file_extension": ".py",
   "mimetype": "text/x-python",
   "name": "python",
   "nbconvert_exporter": "python",
   "pygments_lexer": "ipython3",
   "version": "3.9.19"
  }
 },
 "nbformat": 4,
 "nbformat_minor": 5
}
