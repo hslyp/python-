{
 "cells": [
  {
   "cell_type": "code",
   "execution_count": null,
   "id": "576740f6",
   "metadata": {},
   "outputs": [],
   "source": [
    "def class_logger(cls):\n",
    "\n",
    "    original_init = cls.__init__\n",
    "\n",
    "    def new_init(self, *args, **kwargs):\n",
    "\n",
    "        print(f\"[LOG] 实例化对象: {cls.__name__}\")\n",
    "        original_init(self, *args, **kwargs)  \n",
    "\n",
    "    cls.__init__ = new_init\n",
    "\n",
    "    def log_message(self, message):\n",
    "        print(f\"[LOG] {message}\")\n",
    "\n",
    "    cls.log = log_message \n",
    "    return cls"
   ]
  },
  {
   "cell_type": "code",
   "execution_count": null,
   "id": "89b377ee",
   "metadata": {},
   "outputs": [
    {
     "name": "stdout",
     "output_type": "stream",
     "text": [
      "[LOG] 实例化对象: SimplePrinter\n",
      "Alice: Hello, World!\n",
      "[LOG] 这是装饰器添加的日志方法\n"
     ]
    }
   ],
   "source": [
    "@class_logger\n",
    "class SimplePrinter:\n",
    "    def __init__(self, name):\n",
    "        self.name = name  \n",
    "\n",
    "    def print_text(self, text):\n",
    "        \"\"\"简单打印方法\"\"\"\n",
    "        print(f\"{self.name}: {text}\")\n",
    "\n",
    "printer = SimplePrinter(\"Alice\")  \n",
    "printer.print_text(\"Hello, World!\")  \n",
    "printer.log(\"这是装饰器添加的日志方法\") "
   ]
  },
  {
   "cell_type": "markdown",
   "id": "92f7e601",
   "metadata": {},
   "source": [
    "注意到其中的cls.log = log_message 这行代码，他把外部的函数赋值给了类的新定义的属性，这里我们介绍这种写法\n",
    "\n",
    "实际上，定义类的方法，有2类写法\n",
    "1. 在类定义内部直接写方法，这是静态方法，一般定义类都这么完成。\n",
    "2. 在类定义外部定义方法，然后把方法赋值给类的属性---这是一种动态方法，常在装饰器中使用，可以再外部修改类的方法。\n",
    "\n",
    " **本质区别**\n",
    "| **特性**         | **类内部定义方法**               | **外部赋值定义方法**               |\n",
    "|------------------|----------------------------------|------------------------------------|\n",
    "| **语法**         | 在 `class` 块内使用 `def`        | 定义函数后赋值给类属性（如 `cls.fn = fn`） |\n",
    "| **作用域**       | 方法可以直接访问类的其他私有成员 | 需要通过 `self` 或类名显式访问     |\n",
    "| **动态性**       | 类定义后方法固定                 | 可以在运行时动态添加/修改方法     |\n",
    "| **常见场景**     | 常规类定义                       | 装饰器、元类、动态编程             |\n",
    "\n",
    "\n",
    "两种方式的本质都是将函数对象绑定到类的属性上，只是语法和应用场景不同。装饰器中常用外部赋值，是为了在不修改原类代码的情况下增强类的功能。"
   ]
  }
 ],
 "metadata": {
  "kernelspec": {
   "display_name": "vs",
   "language": "python",
   "name": "python3"
  },
  "language_info": {
   "codemirror_mode": {
    "name": "ipython",
    "version": 3
   },
   "file_extension": ".py",
   "mimetype": "text/x-python",
   "name": "python",
   "nbconvert_exporter": "python",
   "pygments_lexer": "ipython3",
   "version": "3.9.19"
  }
 },
 "nbformat": 4,
 "nbformat_minor": 5
}
